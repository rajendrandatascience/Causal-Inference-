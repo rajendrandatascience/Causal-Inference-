{
 "cells": [
  {
   "cell_type": "code",
   "execution_count": 2,
   "metadata": {},
   "outputs": [],
   "source": [
    "import pandas as pd\n",
    "import seaborn as sns\n",
    "import numpy as np\n",
    "import matplotlib.pyplot\n",
    "%matplotlib inline"
   ]
  },
  {
   "cell_type": "code",
   "execution_count": 3,
   "metadata": {},
   "outputs": [],
   "source": [
    "\n",
    "\n",
    "dataset = pd.read_csv('https://raw.githubusercontent.com/Sid-darthvader/DoWhy-The-Causal-Story-Behind-Hotel-Booking-Cancellations/master/hotel_bookings.csv')\n"
   ]
  },
  {
   "cell_type": "code",
   "execution_count": null,
   "metadata": {},
   "outputs": [],
   "source": []
  },
  {
   "cell_type": "code",
   "execution_count": 4,
   "metadata": {},
   "outputs": [
    {
     "data": {
      "text/html": [
       "<div>\n",
       "<style scoped>\n",
       "    .dataframe tbody tr th:only-of-type {\n",
       "        vertical-align: middle;\n",
       "    }\n",
       "\n",
       "    .dataframe tbody tr th {\n",
       "        vertical-align: top;\n",
       "    }\n",
       "\n",
       "    .dataframe thead th {\n",
       "        text-align: right;\n",
       "    }\n",
       "</style>\n",
       "<table border=\"1\" class=\"dataframe\">\n",
       "  <thead>\n",
       "    <tr style=\"text-align: right;\">\n",
       "      <th></th>\n",
       "      <th>hotel</th>\n",
       "      <th>is_canceled</th>\n",
       "      <th>lead_time</th>\n",
       "      <th>arrival_date_year</th>\n",
       "      <th>arrival_date_month</th>\n",
       "      <th>arrival_date_week_number</th>\n",
       "      <th>arrival_date_day_of_month</th>\n",
       "      <th>stays_in_weekend_nights</th>\n",
       "      <th>stays_in_week_nights</th>\n",
       "      <th>adults</th>\n",
       "      <th>...</th>\n",
       "      <th>deposit_type</th>\n",
       "      <th>agent</th>\n",
       "      <th>company</th>\n",
       "      <th>days_in_waiting_list</th>\n",
       "      <th>customer_type</th>\n",
       "      <th>adr</th>\n",
       "      <th>required_car_parking_spaces</th>\n",
       "      <th>total_of_special_requests</th>\n",
       "      <th>reservation_status</th>\n",
       "      <th>reservation_status_date</th>\n",
       "    </tr>\n",
       "  </thead>\n",
       "  <tbody>\n",
       "    <tr>\n",
       "      <th>0</th>\n",
       "      <td>Resort Hotel</td>\n",
       "      <td>0</td>\n",
       "      <td>342</td>\n",
       "      <td>2015</td>\n",
       "      <td>July</td>\n",
       "      <td>27</td>\n",
       "      <td>1</td>\n",
       "      <td>0</td>\n",
       "      <td>0</td>\n",
       "      <td>2</td>\n",
       "      <td>...</td>\n",
       "      <td>No Deposit</td>\n",
       "      <td>NaN</td>\n",
       "      <td>NaN</td>\n",
       "      <td>0</td>\n",
       "      <td>Transient</td>\n",
       "      <td>0.0</td>\n",
       "      <td>0</td>\n",
       "      <td>0</td>\n",
       "      <td>Check-Out</td>\n",
       "      <td>2015-07-01</td>\n",
       "    </tr>\n",
       "    <tr>\n",
       "      <th>1</th>\n",
       "      <td>Resort Hotel</td>\n",
       "      <td>0</td>\n",
       "      <td>737</td>\n",
       "      <td>2015</td>\n",
       "      <td>July</td>\n",
       "      <td>27</td>\n",
       "      <td>1</td>\n",
       "      <td>0</td>\n",
       "      <td>0</td>\n",
       "      <td>2</td>\n",
       "      <td>...</td>\n",
       "      <td>No Deposit</td>\n",
       "      <td>NaN</td>\n",
       "      <td>NaN</td>\n",
       "      <td>0</td>\n",
       "      <td>Transient</td>\n",
       "      <td>0.0</td>\n",
       "      <td>0</td>\n",
       "      <td>0</td>\n",
       "      <td>Check-Out</td>\n",
       "      <td>2015-07-01</td>\n",
       "    </tr>\n",
       "    <tr>\n",
       "      <th>2</th>\n",
       "      <td>Resort Hotel</td>\n",
       "      <td>0</td>\n",
       "      <td>7</td>\n",
       "      <td>2015</td>\n",
       "      <td>July</td>\n",
       "      <td>27</td>\n",
       "      <td>1</td>\n",
       "      <td>0</td>\n",
       "      <td>1</td>\n",
       "      <td>1</td>\n",
       "      <td>...</td>\n",
       "      <td>No Deposit</td>\n",
       "      <td>NaN</td>\n",
       "      <td>NaN</td>\n",
       "      <td>0</td>\n",
       "      <td>Transient</td>\n",
       "      <td>75.0</td>\n",
       "      <td>0</td>\n",
       "      <td>0</td>\n",
       "      <td>Check-Out</td>\n",
       "      <td>2015-07-02</td>\n",
       "    </tr>\n",
       "    <tr>\n",
       "      <th>3</th>\n",
       "      <td>Resort Hotel</td>\n",
       "      <td>0</td>\n",
       "      <td>13</td>\n",
       "      <td>2015</td>\n",
       "      <td>July</td>\n",
       "      <td>27</td>\n",
       "      <td>1</td>\n",
       "      <td>0</td>\n",
       "      <td>1</td>\n",
       "      <td>1</td>\n",
       "      <td>...</td>\n",
       "      <td>No Deposit</td>\n",
       "      <td>304.0</td>\n",
       "      <td>NaN</td>\n",
       "      <td>0</td>\n",
       "      <td>Transient</td>\n",
       "      <td>75.0</td>\n",
       "      <td>0</td>\n",
       "      <td>0</td>\n",
       "      <td>Check-Out</td>\n",
       "      <td>2015-07-02</td>\n",
       "    </tr>\n",
       "    <tr>\n",
       "      <th>4</th>\n",
       "      <td>Resort Hotel</td>\n",
       "      <td>0</td>\n",
       "      <td>14</td>\n",
       "      <td>2015</td>\n",
       "      <td>July</td>\n",
       "      <td>27</td>\n",
       "      <td>1</td>\n",
       "      <td>0</td>\n",
       "      <td>2</td>\n",
       "      <td>2</td>\n",
       "      <td>...</td>\n",
       "      <td>No Deposit</td>\n",
       "      <td>240.0</td>\n",
       "      <td>NaN</td>\n",
       "      <td>0</td>\n",
       "      <td>Transient</td>\n",
       "      <td>98.0</td>\n",
       "      <td>0</td>\n",
       "      <td>1</td>\n",
       "      <td>Check-Out</td>\n",
       "      <td>2015-07-03</td>\n",
       "    </tr>\n",
       "  </tbody>\n",
       "</table>\n",
       "<p>5 rows × 32 columns</p>\n",
       "</div>"
      ],
      "text/plain": [
       "          hotel  is_canceled  lead_time  arrival_date_year arrival_date_month  \\\n",
       "0  Resort Hotel            0        342               2015               July   \n",
       "1  Resort Hotel            0        737               2015               July   \n",
       "2  Resort Hotel            0          7               2015               July   \n",
       "3  Resort Hotel            0         13               2015               July   \n",
       "4  Resort Hotel            0         14               2015               July   \n",
       "\n",
       "   arrival_date_week_number  arrival_date_day_of_month  \\\n",
       "0                        27                          1   \n",
       "1                        27                          1   \n",
       "2                        27                          1   \n",
       "3                        27                          1   \n",
       "4                        27                          1   \n",
       "\n",
       "   stays_in_weekend_nights  stays_in_week_nights  adults  ...  deposit_type  \\\n",
       "0                        0                     0       2  ...    No Deposit   \n",
       "1                        0                     0       2  ...    No Deposit   \n",
       "2                        0                     1       1  ...    No Deposit   \n",
       "3                        0                     1       1  ...    No Deposit   \n",
       "4                        0                     2       2  ...    No Deposit   \n",
       "\n",
       "   agent company days_in_waiting_list customer_type   adr  \\\n",
       "0    NaN     NaN                    0     Transient   0.0   \n",
       "1    NaN     NaN                    0     Transient   0.0   \n",
       "2    NaN     NaN                    0     Transient  75.0   \n",
       "3  304.0     NaN                    0     Transient  75.0   \n",
       "4  240.0     NaN                    0     Transient  98.0   \n",
       "\n",
       "   required_car_parking_spaces  total_of_special_requests  reservation_status  \\\n",
       "0                            0                          0           Check-Out   \n",
       "1                            0                          0           Check-Out   \n",
       "2                            0                          0           Check-Out   \n",
       "3                            0                          0           Check-Out   \n",
       "4                            0                          1           Check-Out   \n",
       "\n",
       "  reservation_status_date  \n",
       "0              2015-07-01  \n",
       "1              2015-07-01  \n",
       "2              2015-07-02  \n",
       "3              2015-07-02  \n",
       "4              2015-07-03  \n",
       "\n",
       "[5 rows x 32 columns]"
      ]
     },
     "execution_count": 4,
     "metadata": {},
     "output_type": "execute_result"
    }
   ],
   "source": [
    "dataset.head()"
   ]
  },
  {
   "cell_type": "code",
   "execution_count": 4,
   "metadata": {},
   "outputs": [
    {
     "name": "stdout",
     "output_type": "stream",
     "text": [
      "<class 'pandas.core.frame.DataFrame'>\n",
      "RangeIndex: 119390 entries, 0 to 119389\n",
      "Data columns (total 32 columns):\n",
      " #   Column                          Non-Null Count   Dtype  \n",
      "---  ------                          --------------   -----  \n",
      " 0   hotel                           119390 non-null  object \n",
      " 1   is_canceled                     119390 non-null  int64  \n",
      " 2   lead_time                       119390 non-null  int64  \n",
      " 3   arrival_date_year               119390 non-null  int64  \n",
      " 4   arrival_date_month              119390 non-null  object \n",
      " 5   arrival_date_week_number        119390 non-null  int64  \n",
      " 6   arrival_date_day_of_month       119390 non-null  int64  \n",
      " 7   stays_in_weekend_nights         119390 non-null  int64  \n",
      " 8   stays_in_week_nights            119390 non-null  int64  \n",
      " 9   adults                          119390 non-null  int64  \n",
      " 10  children                        119386 non-null  float64\n",
      " 11  babies                          119390 non-null  int64  \n",
      " 12  meal                            119390 non-null  object \n",
      " 13  country                         118902 non-null  object \n",
      " 14  market_segment                  119390 non-null  object \n",
      " 15  distribution_channel            119390 non-null  object \n",
      " 16  is_repeated_guest               119390 non-null  int64  \n",
      " 17  previous_cancellations          119390 non-null  int64  \n",
      " 18  previous_bookings_not_canceled  119390 non-null  int64  \n",
      " 19  reserved_room_type              119390 non-null  object \n",
      " 20  assigned_room_type              119390 non-null  object \n",
      " 21  booking_changes                 119390 non-null  int64  \n",
      " 22  deposit_type                    119390 non-null  object \n",
      " 23  agent                           103050 non-null  float64\n",
      " 24  company                         6797 non-null    float64\n",
      " 25  days_in_waiting_list            119390 non-null  int64  \n",
      " 26  customer_type                   119390 non-null  object \n",
      " 27  adr                             119390 non-null  float64\n",
      " 28  required_car_parking_spaces     119390 non-null  int64  \n",
      " 29  total_of_special_requests       119390 non-null  int64  \n",
      " 30  reservation_status              119390 non-null  object \n",
      " 31  reservation_status_date         119390 non-null  object \n",
      "dtypes: float64(4), int64(16), object(12)\n",
      "memory usage: 29.1+ MB\n"
     ]
    }
   ],
   "source": [
    "dataset.info()"
   ]
  },
  {
   "cell_type": "code",
   "execution_count": 5,
   "metadata": {},
   "outputs": [
    {
     "data": {
      "text/plain": [
       "hotel                             0.000000\n",
       "is_canceled                       0.000000\n",
       "lead_time                         0.000000\n",
       "arrival_date_year                 0.000000\n",
       "arrival_date_month                0.000000\n",
       "arrival_date_week_number          0.000000\n",
       "arrival_date_day_of_month         0.000000\n",
       "stays_in_weekend_nights           0.000000\n",
       "stays_in_week_nights              0.000000\n",
       "adults                            0.000000\n",
       "children                          0.000034\n",
       "babies                            0.000000\n",
       "meal                              0.000000\n",
       "country                           0.004087\n",
       "market_segment                    0.000000\n",
       "distribution_channel              0.000000\n",
       "is_repeated_guest                 0.000000\n",
       "previous_cancellations            0.000000\n",
       "previous_bookings_not_canceled    0.000000\n",
       "reserved_room_type                0.000000\n",
       "assigned_room_type                0.000000\n",
       "booking_changes                   0.000000\n",
       "deposit_type                      0.000000\n",
       "agent                             0.136862\n",
       "company                           0.943069\n",
       "days_in_waiting_list              0.000000\n",
       "customer_type                     0.000000\n",
       "adr                               0.000000\n",
       "required_car_parking_spaces       0.000000\n",
       "total_of_special_requests         0.000000\n",
       "reservation_status                0.000000\n",
       "reservation_status_date           0.000000\n",
       "dtype: float64"
      ]
     },
     "execution_count": 5,
     "metadata": {},
     "output_type": "execute_result"
    }
   ],
   "source": [
    "dataset.isnull().mean()"
   ]
  },
  {
   "cell_type": "code",
   "execution_count": null,
   "metadata": {},
   "outputs": [],
   "source": []
  },
  {
   "cell_type": "markdown",
   "metadata": {},
   "source": [
    "# Data Cleaning"
   ]
  },
  {
   "cell_type": "markdown",
   "metadata": {},
   "source": [
    "# 1)Dropping column\n",
    "Here in the dataset since almost 95% values of company is missing so we drop that column"
   ]
  },
  {
   "cell_type": "code",
   "execution_count": 6,
   "metadata": {},
   "outputs": [],
   "source": [
    "dataset=dataset.drop('company',axis=1)"
   ]
  },
  {
   "cell_type": "markdown",
   "metadata": {},
   "source": [
    "# 2)Random imputation"
   ]
  },
  {
   "cell_type": "code",
   "execution_count": 7,
   "metadata": {},
   "outputs": [
    {
     "data": {
      "text/plain": [
       "<matplotlib.axes._subplots.AxesSubplot at 0x2d65011dca0>"
      ]
     },
     "execution_count": 7,
     "metadata": {},
     "output_type": "execute_result"
    },
    {
     "data": {
      "image/png": "[encoded data removed]",
      "text/plain": [
       "<Figure size 432x288 with 1 Axes>"
      ]
     },
     "metadata": {
      "needs_background": "light"
     },
     "output_type": "display_data"
    }
   ],
   "source": [
    "sns.distplot(dataset['agent'],kde=False,bins=50,hist_kws={ \"linewidth\": 3,\"alpha\": 1, \"color\": \"black\"},axlabel='agent fees')"
   ]
  },
  {
   "cell_type": "code",
   "execution_count": 8,
   "metadata": {},
   "outputs": [],
   "source": [
    "dataset['agent']=dataset['agent'].replace(np.nan,0)"
   ]
  },
  {
   "cell_type": "code",
   "execution_count": null,
   "metadata": {},
   "outputs": [],
   "source": []
  },
  {
   "cell_type": "code",
   "execution_count": 9,
   "metadata": {},
   "outputs": [
    {
     "data": {
      "text/plain": [
       "<matplotlib.axes._subplots.AxesSubplot at 0x2d65256fd30>"
      ]
     },
     "execution_count": 9,
     "metadata": {},
     "output_type": "execute_result"
    },
    {
     "data": {
      "image/png": "[encoded data removed]",
      "text/plain": [
       "<Figure size 432x288 with 1 Axes>"
      ]
     },
     "metadata": {
      "needs_background": "light"
     },
     "output_type": "display_data"
    }
   ],
   "source": [
    "sns.distplot(dataset['agent'],kde=False,bins=50,hist_kws={ \"linewidth\": 3,\"alpha\": 1, \"color\": \"black\"},axlabel='agent fees')"
   ]
  },
  {
   "cell_type": "markdown",
   "metadata": {},
   "source": [
    "\n",
    "## 3)Dropping null values\n",
    "Here in the dataset the children and country column have very less missing values so we will drop thos missing values"
   ]
  },
  {
   "cell_type": "code",
   "execution_count": 10,
   "metadata": {},
   "outputs": [],
   "source": [
    "dataset.dropna(inplace=True)"
   ]
  },
  {
   "cell_type": "code",
   "execution_count": null,
   "metadata": {},
   "outputs": [],
   "source": []
  },
  {
   "cell_type": "code",
   "execution_count": 11,
   "metadata": {},
   "outputs": [],
   "source": [
    "dataset.to_csv(\"data1.csv\",index=False)"
   ]
  },
  {
   "cell_type": "code",
   "execution_count": 12,
   "metadata": {},
   "outputs": [
    {
     "data": {
      "text/plain": [
       "hotel                             0\n",
       "is_canceled                       0\n",
       "lead_time                         0\n",
       "arrival_date_year                 0\n",
       "arrival_date_month                0\n",
       "arrival_date_week_number          0\n",
       "arrival_date_day_of_month         0\n",
       "stays_in_weekend_nights           0\n",
       "stays_in_week_nights              0\n",
       "adults                            0\n",
       "children                          0\n",
       "babies                            0\n",
       "meal                              0\n",
       "country                           0\n",
       "market_segment                    0\n",
       "distribution_channel              0\n",
       "is_repeated_guest                 0\n",
       "previous_cancellations            0\n",
       "previous_bookings_not_canceled    0\n",
       "reserved_room_type                0\n",
       "assigned_room_type                0\n",
       "booking_changes                   0\n",
       "deposit_type                      0\n",
       "agent                             0\n",
       "days_in_waiting_list              0\n",
       "customer_type                     0\n",
       "adr                               0\n",
       "required_car_parking_spaces       0\n",
       "total_of_special_requests         0\n",
       "reservation_status                0\n",
       "reservation_status_date           0\n",
       "dtype: int64"
      ]
     },
     "execution_count": 12,
     "metadata": {},
     "output_type": "execute_result"
    }
   ],
   "source": [
    "dataset.isnull().sum()"
   ]
  },
  {
   "cell_type": "code",
   "execution_count": 13,
   "metadata": {},
   "outputs": [],
   "source": [
    "dataset['total_guests']=dataset['adults']+dataset['babies']+dataset['children']"
   ]
  },
  {
   "cell_type": "code",
   "execution_count": 14,
   "metadata": {},
   "outputs": [],
   "source": [
    "dataset.drop(['adults','babies','children'],axis=1,inplace=True)"
   ]
  },
  {
   "cell_type": "code",
   "execution_count": 15,
   "metadata": {},
   "outputs": [],
   "source": [
    "dataset['total_days']=dataset['stays_in_week_nights']+dataset['stays_in_weekend_nights']\n",
    "dataset.drop(['stays_in_week_nights','stays_in_weekend_nights'],axis=1,inplace=True)"
   ]
  },
  {
   "cell_type": "code",
   "execution_count": 16,
   "metadata": {},
   "outputs": [],
   "source": [
    "dataset['is_canceled']=np.where(dataset['is_canceled']==0,'Booking not canceled','Booking canceled')\n",
    "dataset['is_repeated_guest']=np.where(dataset['is_repeated_guest']==0,\"First time guest\",\"Repeated Guest\")\n",
    "dataset['previous_cancellations']=np.where(dataset['previous_cancellations']==0,\"No previous cancellation\",\"Previously Cancelled\")"
   ]
  },
  {
   "cell_type": "code",
   "execution_count": 17,
   "metadata": {},
   "outputs": [],
   "source": [
    "dataset[\"different_room_assigned\"]=np.where(dataset[\"reserved_room_type\"]==dataset[\"assigned_room_type\"],0,1)\n",
    "dataset.drop(['assigned_room_type',\"reserved_room_type\"],axis=1,inplace=True)"
   ]
  },
  {
   "cell_type": "markdown",
   "metadata": {},
   "source": [
    "# EDA"
   ]
  },
  {
   "cell_type": "code",
   "execution_count": 18,
   "metadata": {},
   "outputs": [
    {
     "data": {
      "application/javascript": [
       "\n",
       "        if (window._pyforest_update_imports_cell) { window._pyforest_update_imports_cell('import matplotlib.pyplot as plt'); }\n",
       "    "
      ],
      "text/plain": [
       "<IPython.core.display.Javascript object>"
      ]
     },
     "metadata": {},
     "output_type": "display_data"
    },
    {
     "data": {
      "image/png": "[encoded data removed]",
      "text/plain": [
       "<Figure size 432x288 with 1 Axes>"
      ]
     },
     "metadata": {
      "needs_background": "light"
     },
     "output_type": "display_data"
    }
   ],
   "source": [
    "sns.countplot(dataset['hotel'],hue=dataset['is_canceled'],palette='mako')\n",
    "plt.savefig('Type_of_hotel-is_canceled_1.png')"
   ]
  },
  {
   "cell_type": "markdown",
   "metadata": {},
   "source": [
    "##### we can see that City hotels have high chance of cancelling than resorts\n"
   ]
  },
  {
   "cell_type": "code",
   "execution_count": 19,
   "metadata": {},
   "outputs": [
    {
     "name": "stdout",
     "output_type": "stream",
     "text": [
      "<class 'pandas.core.frame.DataFrame'>\n",
      "Int64Index: 118898 entries, 0 to 119389\n",
      "Data columns (total 27 columns):\n",
      " #   Column                          Non-Null Count   Dtype  \n",
      "---  ------                          --------------   -----  \n",
      " 0   hotel                           118898 non-null  object \n",
      " 1   is_canceled                     118898 non-null  object \n",
      " 2   lead_time                       118898 non-null  int64  \n",
      " 3   arrival_date_year               118898 non-null  int64  \n",
      " 4   arrival_date_month              118898 non-null  object \n",
      " 5   arrival_date_week_number        118898 non-null  int64  \n",
      " 6   arrival_date_day_of_month       118898 non-null  int64  \n",
      " 7   meal                            118898 non-null  object \n",
      " 8   country                         118898 non-null  object \n",
      " 9   market_segment                  118898 non-null  object \n",
      " 10  distribution_channel            118898 non-null  object \n",
      " 11  is_repeated_guest               118898 non-null  object \n",
      " 12  previous_cancellations          118898 non-null  object \n",
      " 13  previous_bookings_not_canceled  118898 non-null  int64  \n",
      " 14  booking_changes                 118898 non-null  int64  \n",
      " 15  deposit_type                    118898 non-null  object \n",
      " 16  agent                           118898 non-null  float64\n",
      " 17  days_in_waiting_list            118898 non-null  int64  \n",
      " 18  customer_type                   118898 non-null  object \n",
      " 19  adr                             118898 non-null  float64\n",
      " 20  required_car_parking_spaces     118898 non-null  int64  \n",
      " 21  total_of_special_requests       118898 non-null  int64  \n",
      " 22  reservation_status              118898 non-null  object \n",
      " 23  reservation_status_date         118898 non-null  object \n",
      " 24  total_guests                    118898 non-null  float64\n",
      " 25  total_days                      118898 non-null  int64  \n",
      " 26  different_room_assigned         118898 non-null  int32  \n",
      "dtypes: float64(3), int32(1), int64(10), object(13)\n",
      "memory usage: 29.0+ MB\n"
     ]
    }
   ],
   "source": [
    "dataset.info()"
   ]
  },
  {
   "cell_type": "code",
   "execution_count": 20,
   "metadata": {},
   "outputs": [
    {
     "data": {
      "application/javascript": [
       "\n",
       "        if (window._pyforest_update_imports_cell) { window._pyforest_update_imports_cell('import matplotlib.pyplot as plt'); }\n",
       "    "
      ],
      "text/plain": [
       "<IPython.core.display.Javascript object>"
      ]
     },
     "metadata": {},
     "output_type": "display_data"
    },
    {
     "data": {
      "image/png": "[encoded data removed]",
      "text/plain": [
       "<Figure size 432x288 with 1 Axes>"
      ]
     },
     "metadata": {
      "needs_background": "light"
     },
     "output_type": "display_data"
    }
   ],
   "source": [
    "sns.countplot(dataset['previous_cancellations'],hue=dataset['is_canceled'],palette=\"Set1\")\n",
    "plt.savefig(\"prev_cancellation_is_cancelled_2.png\")"
   ]
  },
  {
   "cell_type": "markdown",
   "metadata": {},
   "source": [
    "##### We can see that when a person has previously cancelled then there is a high chance that they will cancel again"
   ]
  },
  {
   "cell_type": "code",
   "execution_count": 22,
   "metadata": {},
   "outputs": [
    {
     "data": {
      "text/html": [
       "<div>\n",
       "<style scoped>\n",
       "    .dataframe tbody tr th:only-of-type {\n",
       "        vertical-align: middle;\n",
       "    }\n",
       "\n",
       "    .dataframe tbody tr th {\n",
       "        vertical-align: top;\n",
       "    }\n",
       "\n",
       "    .dataframe thead th {\n",
       "        text-align: right;\n",
       "    }\n",
       "</style>\n",
       "<table border=\"1\" class=\"dataframe\">\n",
       "  <thead>\n",
       "    <tr style=\"text-align: right;\">\n",
       "      <th></th>\n",
       "      <th>lead_time</th>\n",
       "      <th>arrival_date_year</th>\n",
       "      <th>arrival_date_week_number</th>\n",
       "      <th>arrival_date_day_of_month</th>\n",
       "      <th>previous_bookings_not_canceled</th>\n",
       "      <th>booking_changes</th>\n",
       "      <th>agent</th>\n",
       "      <th>days_in_waiting_list</th>\n",
       "      <th>adr</th>\n",
       "      <th>required_car_parking_spaces</th>\n",
       "      <th>total_of_special_requests</th>\n",
       "      <th>total_guests</th>\n",
       "      <th>total_days</th>\n",
       "      <th>different_room_assigned</th>\n",
       "    </tr>\n",
       "  </thead>\n",
       "  <tbody>\n",
       "    <tr>\n",
       "      <th>count</th>\n",
       "      <td>118898.000000</td>\n",
       "      <td>118898.000000</td>\n",
       "      <td>118898.000000</td>\n",
       "      <td>118898.000000</td>\n",
       "      <td>118898.000000</td>\n",
       "      <td>118898.000000</td>\n",
       "      <td>118898.000000</td>\n",
       "      <td>118898.000000</td>\n",
       "      <td>118898.000000</td>\n",
       "      <td>118898.000000</td>\n",
       "      <td>118898.000000</td>\n",
       "      <td>118898.000000</td>\n",
       "      <td>118898.000000</td>\n",
       "      <td>118898.000000</td>\n",
       "    </tr>\n",
       "    <tr>\n",
       "      <th>mean</th>\n",
       "      <td>104.311435</td>\n",
       "      <td>2016.157656</td>\n",
       "      <td>27.166555</td>\n",
       "      <td>15.800880</td>\n",
       "      <td>0.131634</td>\n",
       "      <td>0.221181</td>\n",
       "      <td>74.896264</td>\n",
       "      <td>2.330754</td>\n",
       "      <td>102.003243</td>\n",
       "      <td>0.061885</td>\n",
       "      <td>0.571683</td>\n",
       "      <td>1.970546</td>\n",
       "      <td>3.431042</td>\n",
       "      <td>0.123627</td>\n",
       "    </tr>\n",
       "    <tr>\n",
       "      <th>std</th>\n",
       "      <td>106.903309</td>\n",
       "      <td>0.707459</td>\n",
       "      <td>13.589971</td>\n",
       "      <td>8.780324</td>\n",
       "      <td>1.484672</td>\n",
       "      <td>0.652785</td>\n",
       "      <td>107.145761</td>\n",
       "      <td>17.630452</td>\n",
       "      <td>50.485862</td>\n",
       "      <td>0.244172</td>\n",
       "      <td>0.792678</td>\n",
       "      <td>0.721894</td>\n",
       "      <td>2.544938</td>\n",
       "      <td>0.329157</td>\n",
       "    </tr>\n",
       "    <tr>\n",
       "      <th>min</th>\n",
       "      <td>0.000000</td>\n",
       "      <td>2015.000000</td>\n",
       "      <td>1.000000</td>\n",
       "      <td>1.000000</td>\n",
       "      <td>0.000000</td>\n",
       "      <td>0.000000</td>\n",
       "      <td>0.000000</td>\n",
       "      <td>0.000000</td>\n",
       "      <td>-6.380000</td>\n",
       "      <td>0.000000</td>\n",
       "      <td>0.000000</td>\n",
       "      <td>0.000000</td>\n",
       "      <td>0.000000</td>\n",
       "      <td>0.000000</td>\n",
       "    </tr>\n",
       "    <tr>\n",
       "      <th>25%</th>\n",
       "      <td>18.000000</td>\n",
       "      <td>2016.000000</td>\n",
       "      <td>16.000000</td>\n",
       "      <td>8.000000</td>\n",
       "      <td>0.000000</td>\n",
       "      <td>0.000000</td>\n",
       "      <td>7.000000</td>\n",
       "      <td>0.000000</td>\n",
       "      <td>70.000000</td>\n",
       "      <td>0.000000</td>\n",
       "      <td>0.000000</td>\n",
       "      <td>2.000000</td>\n",
       "      <td>2.000000</td>\n",
       "      <td>0.000000</td>\n",
       "    </tr>\n",
       "    <tr>\n",
       "      <th>50%</th>\n",
       "      <td>69.000000</td>\n",
       "      <td>2016.000000</td>\n",
       "      <td>28.000000</td>\n",
       "      <td>16.000000</td>\n",
       "      <td>0.000000</td>\n",
       "      <td>0.000000</td>\n",
       "      <td>9.000000</td>\n",
       "      <td>0.000000</td>\n",
       "      <td>95.000000</td>\n",
       "      <td>0.000000</td>\n",
       "      <td>0.000000</td>\n",
       "      <td>2.000000</td>\n",
       "      <td>3.000000</td>\n",
       "      <td>0.000000</td>\n",
       "    </tr>\n",
       "    <tr>\n",
       "      <th>75%</th>\n",
       "      <td>161.000000</td>\n",
       "      <td>2017.000000</td>\n",
       "      <td>38.000000</td>\n",
       "      <td>23.000000</td>\n",
       "      <td>0.000000</td>\n",
       "      <td>0.000000</td>\n",
       "      <td>152.000000</td>\n",
       "      <td>0.000000</td>\n",
       "      <td>126.000000</td>\n",
       "      <td>0.000000</td>\n",
       "      <td>1.000000</td>\n",
       "      <td>2.000000</td>\n",
       "      <td>4.000000</td>\n",
       "      <td>0.000000</td>\n",
       "    </tr>\n",
       "    <tr>\n",
       "      <th>max</th>\n",
       "      <td>737.000000</td>\n",
       "      <td>2017.000000</td>\n",
       "      <td>53.000000</td>\n",
       "      <td>31.000000</td>\n",
       "      <td>72.000000</td>\n",
       "      <td>21.000000</td>\n",
       "      <td>535.000000</td>\n",
       "      <td>391.000000</td>\n",
       "      <td>5400.000000</td>\n",
       "      <td>8.000000</td>\n",
       "      <td>5.000000</td>\n",
       "      <td>55.000000</td>\n",
       "      <td>57.000000</td>\n",
       "      <td>1.000000</td>\n",
       "    </tr>\n",
       "  </tbody>\n",
       "</table>\n",
       "</div>"
      ],
      "text/plain": [
       "           lead_time  arrival_date_year  arrival_date_week_number  \\\n",
       "count  118898.000000      118898.000000             118898.000000   \n",
       "mean      104.311435        2016.157656                 27.166555   \n",
       "std       106.903309           0.707459                 13.589971   \n",
       "min         0.000000        2015.000000                  1.000000   \n",
       "25%        18.000000        2016.000000                 16.000000   \n",
       "50%        69.000000        2016.000000                 28.000000   \n",
       "75%       161.000000        2017.000000                 38.000000   \n",
       "max       737.000000        2017.000000                 53.000000   \n",
       "\n",
       "       arrival_date_day_of_month  previous_bookings_not_canceled  \\\n",
       "count              118898.000000                   118898.000000   \n",
       "mean                   15.800880                        0.131634   \n",
       "std                     8.780324                        1.484672   \n",
       "min                     1.000000                        0.000000   \n",
       "25%                     8.000000                        0.000000   \n",
       "50%                    16.000000                        0.000000   \n",
       "75%                    23.000000                        0.000000   \n",
       "max                    31.000000                       72.000000   \n",
       "\n",
       "       booking_changes          agent  days_in_waiting_list            adr  \\\n",
       "count    118898.000000  118898.000000         118898.000000  118898.000000   \n",
       "mean          0.221181      74.896264              2.330754     102.003243   \n",
       "std           0.652785     107.145761             17.630452      50.485862   \n",
       "min           0.000000       0.000000              0.000000      -6.380000   \n",
       "25%           0.000000       7.000000              0.000000      70.000000   \n",
       "50%           0.000000       9.000000              0.000000      95.000000   \n",
       "75%           0.000000     152.000000              0.000000     126.000000   \n",
       "max          21.000000     535.000000            391.000000    5400.000000   \n",
       "\n",
       "       required_car_parking_spaces  total_of_special_requests   total_guests  \\\n",
       "count                118898.000000              118898.000000  118898.000000   \n",
       "mean                      0.061885                   0.571683       1.970546   \n",
       "std                       0.244172                   0.792678       0.721894   \n",
       "min                       0.000000                   0.000000       0.000000   \n",
       "25%                       0.000000                   0.000000       2.000000   \n",
       "50%                       0.000000                   0.000000       2.000000   \n",
       "75%                       0.000000                   1.000000       2.000000   \n",
       "max                       8.000000                   5.000000      55.000000   \n",
       "\n",
       "          total_days  different_room_assigned  \n",
       "count  118898.000000            118898.000000  \n",
       "mean        3.431042                 0.123627  \n",
       "std         2.544938                 0.329157  \n",
       "min         0.000000                 0.000000  \n",
       "25%         2.000000                 0.000000  \n",
       "50%         3.000000                 0.000000  \n",
       "75%         4.000000                 0.000000  \n",
       "max        57.000000                 1.000000  "
      ]
     },
     "execution_count": 22,
     "metadata": {},
     "output_type": "execute_result"
    }
   ],
   "source": [
    "dataset.describe()"
   ]
  },
  {
   "cell_type": "code",
   "execution_count": 23,
   "metadata": {},
   "outputs": [
    {
     "data": {
      "application/javascript": [
       "\n",
       "        if (window._pyforest_update_imports_cell) { window._pyforest_update_imports_cell('import matplotlib.pyplot as plt'); }\n",
       "    "
      ],
      "text/plain": [
       "<IPython.core.display.Javascript object>"
      ]
     },
     "metadata": {},
     "output_type": "display_data"
    },
    {
     "data": {
      "image/png": "[encoded data removed]",
      "text/plain": [
       "<Figure size 432x288 with 1 Axes>"
      ]
     },
     "metadata": {
      "needs_background": "light"
     },
     "output_type": "display_data"
    }
   ],
   "source": [
    "sns.countplot(dataset['is_repeated_guest'],hue=dataset['is_canceled'],palette='rocket')\n",
    "plt.savefig(\"repeated_guest_is_cancelled_3.png\")"
   ]
  },
  {
   "cell_type": "markdown",
   "metadata": {},
   "source": [
    "##### It is obvious that when a person is a repeated guest he likes the hotel/resort and hence there is less chance of him or her cancelling the booking"
   ]
  },
  {
   "cell_type": "code",
   "execution_count": 24,
   "metadata": {},
   "outputs": [
    {
     "data": {
      "application/javascript": [
       "\n",
       "        if (window._pyforest_update_imports_cell) { window._pyforest_update_imports_cell('import matplotlib.pyplot as plt'); }\n",
       "    "
      ],
      "text/plain": [
       "<IPython.core.display.Javascript object>"
      ]
     },
     "metadata": {},
     "output_type": "display_data"
    },
    {
     "data": {
      "image/png": "[encoded data removed]",
      "text/plain": [
       "<Figure size 432x288 with 1 Axes>"
      ]
     },
     "metadata": {
      "needs_background": "light"
     },
     "output_type": "display_data"
    }
   ],
   "source": [
    "\n",
    "sns.distplot(dataset[dataset['total_guests']<10]['total_guests'],kde=False,bins=7,\n",
    "             hist_kws={\"linewidth\": 3,\"alpha\": 1, \"color\": \"black\"})\n",
    "plt.savefig(\"histogram_total_guests_4.png\")"
   ]
  },
  {
   "cell_type": "markdown",
   "metadata": {},
   "source": [
    "##### The most number of guests that stay are two"
   ]
  },
  {
   "cell_type": "code",
   "execution_count": 25,
   "metadata": {},
   "outputs": [
    {
     "data": {
      "application/javascript": [
       "\n",
       "        if (window._pyforest_update_imports_cell) { window._pyforest_update_imports_cell('import matplotlib.pyplot as plt'); }\n",
       "    "
      ],
      "text/plain": [
       "<IPython.core.display.Javascript object>"
      ]
     },
     "metadata": {},
     "output_type": "display_data"
    },
    {
     "data": {
      "image/png": "[encoded data removed]",
      "text/plain": [
       "<Figure size 432x288 with 1 Axes>"
      ]
     },
     "metadata": {
      "needs_background": "light"
     },
     "output_type": "display_data"
    }
   ],
   "source": [
    "sns.countplot(dataset['deposit_type'],hue=dataset['is_canceled'],palette='Set1')\n",
    "plt.savefig(\"deposit_type_is_canceled_5.png\")"
   ]
  },
  {
   "cell_type": "markdown",
   "metadata": {},
   "source": [
    "##### This visualisation that wesee is pretty interesting since when the deposit type is non refundable then most of the time the booking is cancelled. As a generral thought a person may think if a booking is non refundable then there is less chance for it to be cancelled"
   ]
  },
  {
   "cell_type": "code",
   "execution_count": 26,
   "metadata": {},
   "outputs": [
    {
     "name": "stdout",
     "output_type": "stream",
     "text": [
      "['hotel', 'is_canceled', 'arrival_date_month', 'meal', 'country', 'market_segment', 'distribution_channel', 'is_repeated_guest', 'previous_cancellations', 'deposit_type', 'customer_type', 'reservation_status', 'reservation_status_date']\n"
     ]
    },
    {
     "data": {
      "application/javascript": [
       "\n",
       "        if (window._pyforest_update_imports_cell) { window._pyforest_update_imports_cell('import matplotlib.pyplot as plt'); }\n",
       "    "
      ],
      "text/plain": [
       "<IPython.core.display.Javascript object>"
      ]
     },
     "metadata": {},
     "output_type": "display_data"
    },
    {
     "data": {
      "application/javascript": [
       "\n",
       "        if (window._pyforest_update_imports_cell) { window._pyforest_update_imports_cell('import matplotlib.pyplot as plt'); }\n",
       "    "
      ],
      "text/plain": [
       "<IPython.core.display.Javascript object>"
      ]
     },
     "metadata": {},
     "output_type": "display_data"
    },
    {
     "data": {
      "image/png": "[encoded data removed]",
      "text/plain": [
       "<Figure size 864x504 with 2 Axes>"
      ]
     },
     "metadata": {
      "needs_background": "light"
     },
     "output_type": "display_data"
    }
   ],
   "source": [
    "categorical_features = []\n",
    "numerical_features = []\n",
    "\n",
    "for col in dataset.columns:\n",
    "    if(dataset[col].dtype!='object'):\n",
    "        numerical_features.append(col)\n",
    "    else:\n",
    "        categorical_features.append(col)\n",
    "print(categorical_features)\n",
    "import seaborn as sns\n",
    "plt.figure(figsize=(12,7))\n",
    "sns.heatmap(dataset[numerical_features].corr(),linewidths=2,linecolor='black',annot=True)\n",
    "plt.savefig(\"heatmap_6.png\")"
   ]
  },
  {
   "cell_type": "markdown",
   "metadata": {},
   "source": [
    "##### Shows correlation heat map of all the numerical features"
   ]
  },
  {
   "cell_type": "code",
   "execution_count": 27,
   "metadata": {},
   "outputs": [],
   "source": [
    "not_canceled=dataset[dataset[\"is_canceled\"]=='Booking not canceled']\n",
    "nc_month=not_canceled.groupby('arrival_date_month').count()\n",
    "\n",
    "canceled=dataset[dataset[\"is_canceled\"]=='Booking canceled']\n",
    "c_month=canceled.groupby('arrival_date_month').count()"
   ]
  },
  {
   "cell_type": "code",
   "execution_count": 28,
   "metadata": {},
   "outputs": [
    {
     "data": {
      "text/html": [
       "<div>\n",
       "<style scoped>\n",
       "    .dataframe tbody tr th:only-of-type {\n",
       "        vertical-align: middle;\n",
       "    }\n",
       "\n",
       "    .dataframe tbody tr th {\n",
       "        vertical-align: top;\n",
       "    }\n",
       "\n",
       "    .dataframe thead th {\n",
       "        text-align: right;\n",
       "    }\n",
       "</style>\n",
       "<table border=\"1\" class=\"dataframe\">\n",
       "  <thead>\n",
       "    <tr style=\"text-align: right;\">\n",
       "      <th></th>\n",
       "      <th>hotel</th>\n",
       "      <th>is_canceled</th>\n",
       "      <th>lead_time</th>\n",
       "      <th>arrival_date_year</th>\n",
       "      <th>arrival_date_week_number</th>\n",
       "      <th>arrival_date_day_of_month</th>\n",
       "      <th>meal</th>\n",
       "      <th>country</th>\n",
       "      <th>market_segment</th>\n",
       "      <th>distribution_channel</th>\n",
       "      <th>...</th>\n",
       "      <th>days_in_waiting_list</th>\n",
       "      <th>customer_type</th>\n",
       "      <th>adr</th>\n",
       "      <th>required_car_parking_spaces</th>\n",
       "      <th>total_of_special_requests</th>\n",
       "      <th>reservation_status</th>\n",
       "      <th>reservation_status_date</th>\n",
       "      <th>total_guests</th>\n",
       "      <th>total_days</th>\n",
       "      <th>different_room_assigned</th>\n",
       "    </tr>\n",
       "    <tr>\n",
       "      <th>arrival_date_month</th>\n",
       "      <th></th>\n",
       "      <th></th>\n",
       "      <th></th>\n",
       "      <th></th>\n",
       "      <th></th>\n",
       "      <th></th>\n",
       "      <th></th>\n",
       "      <th></th>\n",
       "      <th></th>\n",
       "      <th></th>\n",
       "      <th></th>\n",
       "      <th></th>\n",
       "      <th></th>\n",
       "      <th></th>\n",
       "      <th></th>\n",
       "      <th></th>\n",
       "      <th></th>\n",
       "      <th></th>\n",
       "      <th></th>\n",
       "      <th></th>\n",
       "      <th></th>\n",
       "    </tr>\n",
       "  </thead>\n",
       "  <tbody>\n",
       "    <tr>\n",
       "      <th>April</th>\n",
       "      <td>4512</td>\n",
       "      <td>4512</td>\n",
       "      <td>4512</td>\n",
       "      <td>4512</td>\n",
       "      <td>4512</td>\n",
       "      <td>4512</td>\n",
       "      <td>4512</td>\n",
       "      <td>4512</td>\n",
       "      <td>4512</td>\n",
       "      <td>4512</td>\n",
       "      <td>...</td>\n",
       "      <td>4512</td>\n",
       "      <td>4512</td>\n",
       "      <td>4512</td>\n",
       "      <td>4512</td>\n",
       "      <td>4512</td>\n",
       "      <td>4512</td>\n",
       "      <td>4512</td>\n",
       "      <td>4512</td>\n",
       "      <td>4512</td>\n",
       "      <td>4512</td>\n",
       "    </tr>\n",
       "    <tr>\n",
       "      <th>August</th>\n",
       "      <td>5234</td>\n",
       "      <td>5234</td>\n",
       "      <td>5234</td>\n",
       "      <td>5234</td>\n",
       "      <td>5234</td>\n",
       "      <td>5234</td>\n",
       "      <td>5234</td>\n",
       "      <td>5234</td>\n",
       "      <td>5234</td>\n",
       "      <td>5234</td>\n",
       "      <td>...</td>\n",
       "      <td>5234</td>\n",
       "      <td>5234</td>\n",
       "      <td>5234</td>\n",
       "      <td>5234</td>\n",
       "      <td>5234</td>\n",
       "      <td>5234</td>\n",
       "      <td>5234</td>\n",
       "      <td>5234</td>\n",
       "      <td>5234</td>\n",
       "      <td>5234</td>\n",
       "    </tr>\n",
       "    <tr>\n",
       "      <th>December</th>\n",
       "      <td>2363</td>\n",
       "      <td>2363</td>\n",
       "      <td>2363</td>\n",
       "      <td>2363</td>\n",
       "      <td>2363</td>\n",
       "      <td>2363</td>\n",
       "      <td>2363</td>\n",
       "      <td>2363</td>\n",
       "      <td>2363</td>\n",
       "      <td>2363</td>\n",
       "      <td>...</td>\n",
       "      <td>2363</td>\n",
       "      <td>2363</td>\n",
       "      <td>2363</td>\n",
       "      <td>2363</td>\n",
       "      <td>2363</td>\n",
       "      <td>2363</td>\n",
       "      <td>2363</td>\n",
       "      <td>2363</td>\n",
       "      <td>2363</td>\n",
       "      <td>2363</td>\n",
       "    </tr>\n",
       "    <tr>\n",
       "      <th>February</th>\n",
       "      <td>2695</td>\n",
       "      <td>2695</td>\n",
       "      <td>2695</td>\n",
       "      <td>2695</td>\n",
       "      <td>2695</td>\n",
       "      <td>2695</td>\n",
       "      <td>2695</td>\n",
       "      <td>2695</td>\n",
       "      <td>2695</td>\n",
       "      <td>2695</td>\n",
       "      <td>...</td>\n",
       "      <td>2695</td>\n",
       "      <td>2695</td>\n",
       "      <td>2695</td>\n",
       "      <td>2695</td>\n",
       "      <td>2695</td>\n",
       "      <td>2695</td>\n",
       "      <td>2695</td>\n",
       "      <td>2695</td>\n",
       "      <td>2695</td>\n",
       "      <td>2695</td>\n",
       "    </tr>\n",
       "    <tr>\n",
       "      <th>January</th>\n",
       "      <td>1806</td>\n",
       "      <td>1806</td>\n",
       "      <td>1806</td>\n",
       "      <td>1806</td>\n",
       "      <td>1806</td>\n",
       "      <td>1806</td>\n",
       "      <td>1806</td>\n",
       "      <td>1806</td>\n",
       "      <td>1806</td>\n",
       "      <td>1806</td>\n",
       "      <td>...</td>\n",
       "      <td>1806</td>\n",
       "      <td>1806</td>\n",
       "      <td>1806</td>\n",
       "      <td>1806</td>\n",
       "      <td>1806</td>\n",
       "      <td>1806</td>\n",
       "      <td>1806</td>\n",
       "      <td>1806</td>\n",
       "      <td>1806</td>\n",
       "      <td>1806</td>\n",
       "    </tr>\n",
       "    <tr>\n",
       "      <th>July</th>\n",
       "      <td>4736</td>\n",
       "      <td>4736</td>\n",
       "      <td>4736</td>\n",
       "      <td>4736</td>\n",
       "      <td>4736</td>\n",
       "      <td>4736</td>\n",
       "      <td>4736</td>\n",
       "      <td>4736</td>\n",
       "      <td>4736</td>\n",
       "      <td>4736</td>\n",
       "      <td>...</td>\n",
       "      <td>4736</td>\n",
       "      <td>4736</td>\n",
       "      <td>4736</td>\n",
       "      <td>4736</td>\n",
       "      <td>4736</td>\n",
       "      <td>4736</td>\n",
       "      <td>4736</td>\n",
       "      <td>4736</td>\n",
       "      <td>4736</td>\n",
       "      <td>4736</td>\n",
       "    </tr>\n",
       "    <tr>\n",
       "      <th>June</th>\n",
       "      <td>4534</td>\n",
       "      <td>4534</td>\n",
       "      <td>4534</td>\n",
       "      <td>4534</td>\n",
       "      <td>4534</td>\n",
       "      <td>4534</td>\n",
       "      <td>4534</td>\n",
       "      <td>4534</td>\n",
       "      <td>4534</td>\n",
       "      <td>4534</td>\n",
       "      <td>...</td>\n",
       "      <td>4534</td>\n",
       "      <td>4534</td>\n",
       "      <td>4534</td>\n",
       "      <td>4534</td>\n",
       "      <td>4534</td>\n",
       "      <td>4534</td>\n",
       "      <td>4534</td>\n",
       "      <td>4534</td>\n",
       "      <td>4534</td>\n",
       "      <td>4534</td>\n",
       "    </tr>\n",
       "    <tr>\n",
       "      <th>March</th>\n",
       "      <td>3148</td>\n",
       "      <td>3148</td>\n",
       "      <td>3148</td>\n",
       "      <td>3148</td>\n",
       "      <td>3148</td>\n",
       "      <td>3148</td>\n",
       "      <td>3148</td>\n",
       "      <td>3148</td>\n",
       "      <td>3148</td>\n",
       "      <td>3148</td>\n",
       "      <td>...</td>\n",
       "      <td>3148</td>\n",
       "      <td>3148</td>\n",
       "      <td>3148</td>\n",
       "      <td>3148</td>\n",
       "      <td>3148</td>\n",
       "      <td>3148</td>\n",
       "      <td>3148</td>\n",
       "      <td>3148</td>\n",
       "      <td>3148</td>\n",
       "      <td>3148</td>\n",
       "    </tr>\n",
       "    <tr>\n",
       "      <th>May</th>\n",
       "      <td>4677</td>\n",
       "      <td>4677</td>\n",
       "      <td>4677</td>\n",
       "      <td>4677</td>\n",
       "      <td>4677</td>\n",
       "      <td>4677</td>\n",
       "      <td>4677</td>\n",
       "      <td>4677</td>\n",
       "      <td>4677</td>\n",
       "      <td>4677</td>\n",
       "      <td>...</td>\n",
       "      <td>4677</td>\n",
       "      <td>4677</td>\n",
       "      <td>4677</td>\n",
       "      <td>4677</td>\n",
       "      <td>4677</td>\n",
       "      <td>4677</td>\n",
       "      <td>4677</td>\n",
       "      <td>4677</td>\n",
       "      <td>4677</td>\n",
       "      <td>4677</td>\n",
       "    </tr>\n",
       "    <tr>\n",
       "      <th>November</th>\n",
       "      <td>2120</td>\n",
       "      <td>2120</td>\n",
       "      <td>2120</td>\n",
       "      <td>2120</td>\n",
       "      <td>2120</td>\n",
       "      <td>2120</td>\n",
       "      <td>2120</td>\n",
       "      <td>2120</td>\n",
       "      <td>2120</td>\n",
       "      <td>2120</td>\n",
       "      <td>...</td>\n",
       "      <td>2120</td>\n",
       "      <td>2120</td>\n",
       "      <td>2120</td>\n",
       "      <td>2120</td>\n",
       "      <td>2120</td>\n",
       "      <td>2120</td>\n",
       "      <td>2120</td>\n",
       "      <td>2120</td>\n",
       "      <td>2120</td>\n",
       "      <td>2120</td>\n",
       "    </tr>\n",
       "    <tr>\n",
       "      <th>October</th>\n",
       "      <td>4228</td>\n",
       "      <td>4228</td>\n",
       "      <td>4228</td>\n",
       "      <td>4228</td>\n",
       "      <td>4228</td>\n",
       "      <td>4228</td>\n",
       "      <td>4228</td>\n",
       "      <td>4228</td>\n",
       "      <td>4228</td>\n",
       "      <td>4228</td>\n",
       "      <td>...</td>\n",
       "      <td>4228</td>\n",
       "      <td>4228</td>\n",
       "      <td>4228</td>\n",
       "      <td>4228</td>\n",
       "      <td>4228</td>\n",
       "      <td>4228</td>\n",
       "      <td>4228</td>\n",
       "      <td>4228</td>\n",
       "      <td>4228</td>\n",
       "      <td>4228</td>\n",
       "    </tr>\n",
       "    <tr>\n",
       "      <th>September</th>\n",
       "      <td>4100</td>\n",
       "      <td>4100</td>\n",
       "      <td>4100</td>\n",
       "      <td>4100</td>\n",
       "      <td>4100</td>\n",
       "      <td>4100</td>\n",
       "      <td>4100</td>\n",
       "      <td>4100</td>\n",
       "      <td>4100</td>\n",
       "      <td>4100</td>\n",
       "      <td>...</td>\n",
       "      <td>4100</td>\n",
       "      <td>4100</td>\n",
       "      <td>4100</td>\n",
       "      <td>4100</td>\n",
       "      <td>4100</td>\n",
       "      <td>4100</td>\n",
       "      <td>4100</td>\n",
       "      <td>4100</td>\n",
       "      <td>4100</td>\n",
       "      <td>4100</td>\n",
       "    </tr>\n",
       "  </tbody>\n",
       "</table>\n",
       "<p>12 rows × 26 columns</p>\n",
       "</div>"
      ],
      "text/plain": [
       "                    hotel  is_canceled  lead_time  arrival_date_year  \\\n",
       "arrival_date_month                                                     \n",
       "April                4512         4512       4512               4512   \n",
       "August               5234         5234       5234               5234   \n",
       "December             2363         2363       2363               2363   \n",
       "February             2695         2695       2695               2695   \n",
       "January              1806         1806       1806               1806   \n",
       "July                 4736         4736       4736               4736   \n",
       "June                 4534         4534       4534               4534   \n",
       "March                3148         3148       3148               3148   \n",
       "May                  4677         4677       4677               4677   \n",
       "November             2120         2120       2120               2120   \n",
       "October              4228         4228       4228               4228   \n",
       "September            4100         4100       4100               4100   \n",
       "\n",
       "                    arrival_date_week_number  arrival_date_day_of_month  meal  \\\n",
       "arrival_date_month                                                              \n",
       "April                                   4512                       4512  4512   \n",
       "August                                  5234                       5234  5234   \n",
       "December                                2363                       2363  2363   \n",
       "February                                2695                       2695  2695   \n",
       "January                                 1806                       1806  1806   \n",
       "July                                    4736                       4736  4736   \n",
       "June                                    4534                       4534  4534   \n",
       "March                                   3148                       3148  3148   \n",
       "May                                     4677                       4677  4677   \n",
       "November                                2120                       2120  2120   \n",
       "October                                 4228                       4228  4228   \n",
       "September                               4100                       4100  4100   \n",
       "\n",
       "                    country  market_segment  distribution_channel  ...  \\\n",
       "arrival_date_month                                                 ...   \n",
       "April                  4512            4512                  4512  ...   \n",
       "August                 5234            5234                  5234  ...   \n",
       "December               2363            2363                  2363  ...   \n",
       "February               2695            2695                  2695  ...   \n",
       "January                1806            1806                  1806  ...   \n",
       "July                   4736            4736                  4736  ...   \n",
       "June                   4534            4534                  4534  ...   \n",
       "March                  3148            3148                  3148  ...   \n",
       "May                    4677            4677                  4677  ...   \n",
       "November               2120            2120                  2120  ...   \n",
       "October                4228            4228                  4228  ...   \n",
       "September              4100            4100                  4100  ...   \n",
       "\n",
       "                    days_in_waiting_list  customer_type   adr  \\\n",
       "arrival_date_month                                              \n",
       "April                               4512           4512  4512   \n",
       "August                              5234           5234  5234   \n",
       "December                            2363           2363  2363   \n",
       "February                            2695           2695  2695   \n",
       "January                             1806           1806  1806   \n",
       "July                                4736           4736  4736   \n",
       "June                                4534           4534  4534   \n",
       "March                               3148           3148  3148   \n",
       "May                                 4677           4677  4677   \n",
       "November                            2120           2120  2120   \n",
       "October                             4228           4228  4228   \n",
       "September                           4100           4100  4100   \n",
       "\n",
       "                    required_car_parking_spaces  total_of_special_requests  \\\n",
       "arrival_date_month                                                           \n",
       "April                                      4512                       4512   \n",
       "August                                     5234                       5234   \n",
       "December                                   2363                       2363   \n",
       "February                                   2695                       2695   \n",
       "January                                    1806                       1806   \n",
       "July                                       4736                       4736   \n",
       "June                                       4534                       4534   \n",
       "March                                      3148                       3148   \n",
       "May                                        4677                       4677   \n",
       "November                                   2120                       2120   \n",
       "October                                    4228                       4228   \n",
       "September                                  4100                       4100   \n",
       "\n",
       "                    reservation_status  reservation_status_date  total_guests  \\\n",
       "arrival_date_month                                                              \n",
       "April                             4512                     4512          4512   \n",
       "August                            5234                     5234          5234   \n",
       "December                          2363                     2363          2363   \n",
       "February                          2695                     2695          2695   \n",
       "January                           1806                     1806          1806   \n",
       "July                              4736                     4736          4736   \n",
       "June                              4534                     4534          4534   \n",
       "March                             3148                     3148          3148   \n",
       "May                               4677                     4677          4677   \n",
       "November                          2120                     2120          2120   \n",
       "October                           4228                     4228          4228   \n",
       "September                         4100                     4100          4100   \n",
       "\n",
       "                    total_days  different_room_assigned  \n",
       "arrival_date_month                                       \n",
       "April                     4512                     4512  \n",
       "August                    5234                     5234  \n",
       "December                  2363                     2363  \n",
       "February                  2695                     2695  \n",
       "January                   1806                     1806  \n",
       "July                      4736                     4736  \n",
       "June                      4534                     4534  \n",
       "March                     3148                     3148  \n",
       "May                       4677                     4677  \n",
       "November                  2120                     2120  \n",
       "October                   4228                     4228  \n",
       "September                 4100                     4100  \n",
       "\n",
       "[12 rows x 26 columns]"
      ]
     },
     "execution_count": 28,
     "metadata": {},
     "output_type": "execute_result"
    }
   ],
   "source": [
    "c_month"
   ]
  },
  {
   "cell_type": "code",
   "execution_count": 29,
   "metadata": {},
   "outputs": [
    {
     "data": {
      "application/javascript": [
       "\n",
       "        if (window._pyforest_update_imports_cell) { window._pyforest_update_imports_cell('import matplotlib.pyplot as plt'); }\n",
       "    "
      ],
      "text/plain": [
       "<IPython.core.display.Javascript object>"
      ]
     },
     "metadata": {},
     "output_type": "display_data"
    },
    {
     "data": {
      "application/javascript": [
       "\n",
       "        if (window._pyforest_update_imports_cell) { window._pyforest_update_imports_cell('import matplotlib.pyplot as plt'); }\n",
       "    "
      ],
      "text/plain": [
       "<IPython.core.display.Javascript object>"
      ]
     },
     "metadata": {},
     "output_type": "display_data"
    },
    {
     "data": {
      "image/png": "[encoded data removed]",
      "text/plain": [
       "<Figure size 1080x576 with 2 Axes>"
      ]
     },
     "metadata": {
      "needs_background": "light"
     },
     "output_type": "display_data"
    }
   ],
   "source": [
    "\n",
    "f, axes = plt.subplots(1, 2,figsize=(15,8),sharex=True,sharey=True,)\n",
    "sns.barplot(c_month.index,c_month['is_canceled'],ax=axes[0],color='darkblue')\n",
    "sns.barplot(nc_month.index,nc_month['is_canceled'],ax=axes[1],color='darkblue')\n",
    "axes[0].tick_params(axis='x', rotation=45)\n",
    "axes[1].tick_params(axis='x', rotation=45)\n",
    "axes[0].set_title(\"Booking canceled\")\n",
    "axes[1].set_title(\"Booking not canceled\")\n",
    "plt.savefig(\"is_cancelled_Acctomonth_7.png\")"
   ]
  },
  {
   "cell_type": "markdown",
   "metadata": {},
   "source": [
    "##### The month of August has the most hotel cancellations andtye month of January has the least"
   ]
  },
  {
   "cell_type": "code",
   "execution_count": 31,
   "metadata": {},
   "outputs": [
    {
     "data": {
      "application/javascript": [
       "\n",
       "        if (window._pyforest_update_imports_cell) { window._pyforest_update_imports_cell('import matplotlib.pyplot as plt'); }\n",
       "    "
      ],
      "text/plain": [
       "<IPython.core.display.Javascript object>"
      ]
     },
     "metadata": {},
     "output_type": "display_data"
    },
    {
     "data": {
      "application/javascript": [
       "\n",
       "        if (window._pyforest_update_imports_cell) { window._pyforest_update_imports_cell('import matplotlib.pyplot as plt'); }\n",
       "    "
      ],
      "text/plain": [
       "<IPython.core.display.Javascript object>"
      ]
     },
     "metadata": {},
     "output_type": "display_data"
    },
    {
     "data": {
      "image/png": "[encoded data removed]",
      "text/plain": [
       "<Figure size 720x432 with 1 Axes>"
      ]
     },
     "metadata": {
      "needs_background": "light"
     },
     "output_type": "display_data"
    }
   ],
   "source": [
    "plt.figure(figsize=(10,6))\n",
    "sns.countplot(data=dataset,x='arrival_date_year',hue='is_canceled',palette='Set1')\n",
    "plt.savefig(\"is_cancelled_year_8.png\")"
   ]
  },
  {
   "cell_type": "code",
   "execution_count": null,
   "metadata": {},
   "outputs": [],
   "source": []
  },
  {
   "cell_type": "markdown",
   "metadata": {},
   "source": [
    "# Model"
   ]
  },
  {
   "cell_type": "code",
   "execution_count": 32,
   "metadata": {},
   "outputs": [],
   "source": [
    "dataset['is_canceled']=np.where(dataset['is_canceled']=='Booking not canceled',0,1)\n",
    "dataset['is_repeated_guest']=np.where(dataset['is_repeated_guest']==\"First time guest\",0,1)\n",
    "dataset['previous_cancellations']=np.where(dataset['previous_cancellations']==\"No previous cancellation\",0,1)"
   ]
  },
  {
   "cell_type": "code",
   "execution_count": 33,
   "metadata": {},
   "outputs": [],
   "source": [
    "dataset['different_room_assigned']= dataset['different_room_assigned'].replace(1,True)\n",
    "dataset['different_room_assigned']= dataset['different_room_assigned'].replace(0,False)\n",
    "dataset['is_canceled']= dataset['is_canceled'].replace(1,True)\n",
    "dataset['is_canceled']= dataset['is_canceled'].replace(0,False)"
   ]
  },
  {
   "cell_type": "code",
   "execution_count": null,
   "metadata": {},
   "outputs": [],
   "source": []
  },
  {
   "cell_type": "code",
   "execution_count": 34,
   "metadata": {},
   "outputs": [],
   "source": [
    "import dowhy"
   ]
  },
  {
   "cell_type": "code",
   "execution_count": 35,
   "metadata": {},
   "outputs": [],
   "source": [
    "from graphviz import Source"
   ]
  },
  {
   "cell_type": "code",
   "execution_count": 34,
   "metadata": {},
   "outputs": [],
   "source": [
    "from IPython.display import Image, display"
   ]
  },
  {
   "cell_type": "code",
   "execution_count": 36,
   "metadata": {},
   "outputs": [],
   "source": [
    "from dowhy import CausalModel"
   ]
  },
  {
   "cell_type": "code",
   "execution_count": 37,
   "metadata": {},
   "outputs": [
    {
     "data": {
      "image/svg+xml": [
       "<?xml version=\"1.0\" encoding=\"UTF-8\" standalone=\"no\"?>\r\n",
       "<!DOCTYPE svg PUBLIC \"-//W3C//DTD SVG 1.1//EN\"\r\n",
       " \"http://www.w3.org/Graphics/SVG/1.1/DTD/svg11.dtd\">\r\n",
       "<!-- Generated by graphviz version 2.38.0 (20140413.2041)\r\n",
       " -->\r\n",
       "<!-- Title: %3 Pages: 1 -->\r\n",
       "<svg width=\"1456pt\" height=\"260pt\"\r\n",
       " viewBox=\"0.00 0.00 1456.39 260.00\" xmlns=\"http://www.w3.org/2000/svg\" xmlns:xlink=\"http://www.w3.org/1999/xlink\">\r\n",
       "<g id=\"graph0\" class=\"graph\" transform=\"scale(1 1) rotate(0) translate(4 256)\">\r\n",
       "<title>%3</title>\r\n",
       "<polygon fill=\"white\" stroke=\"none\" points=\"-4,4 -4,-256 1452.39,-256 1452.39,4 -4,4\"/>\r\n",
       "<!-- agent -->\r\n",
       "<g id=\"node1\" class=\"node\"><title>agent</title>\r\n",
       "<ellipse fill=\"none\" stroke=\"black\" cx=\"840.042\" cy=\"-90\" rx=\"29.795\" ry=\"18\"/>\r\n",
       "<text text-anchor=\"middle\" x=\"840.042\" y=\"-86.3\" font-family=\"Times New Roman,serif\" font-size=\"14.00\">agent</text>\r\n",
       "</g>\r\n",
       "<!-- total_days -->\r\n",
       "<g id=\"node2\" class=\"node\"><title>total_days</title>\r\n",
       "<ellipse fill=\"none\" stroke=\"black\" cx=\"898.042\" cy=\"-162\" rx=\"48.1917\" ry=\"18\"/>\r\n",
       "<text text-anchor=\"middle\" x=\"898.042\" y=\"-158.3\" font-family=\"Times New Roman,serif\" font-size=\"14.00\">total_days</text>\r\n",
       "</g>\r\n",
       "<!-- total_days&#45;&gt;agent -->\r\n",
       "<g id=\"edge22\" class=\"edge\"><title>total_days&#45;&gt;agent</title>\r\n",
       "<path fill=\"none\" stroke=\"black\" d=\"M884.297,-144.411C876.864,-135.441 867.563,-124.215 859.408,-114.373\"/>\r\n",
       "<polygon fill=\"black\" stroke=\"black\" points=\"861.969,-111.978 852.894,-106.511 856.579,-116.444 861.969,-111.978\"/>\r\n",
       "</g>\r\n",
       "<!-- is_canceled -->\r\n",
       "<g id=\"node7\" class=\"node\"><title>is_canceled</title>\r\n",
       "<ellipse fill=\"none\" stroke=\"black\" cx=\"717.042\" cy=\"-18\" rx=\"53.0913\" ry=\"18\"/>\r\n",
       "<text text-anchor=\"middle\" x=\"717.042\" y=\"-14.3\" font-family=\"Times New Roman,serif\" font-size=\"14.00\">is_canceled</text>\r\n",
       "</g>\r\n",
       "<!-- total_days&#45;&gt;is_canceled -->\r\n",
       "<g id=\"edge21\" class=\"edge\"><title>total_days&#45;&gt;is_canceled</title>\r\n",
       "<path fill=\"none\" stroke=\"black\" d=\"M899.142,-143.676C899.428,-123.897 896.792,-91.7356 879.042,-72 853.647,-43.7639 813.003,-30.5184 778.78,-24.3296\"/>\r\n",
       "<polygon fill=\"black\" stroke=\"black\" points=\"779.289,-20.8664 768.853,-22.6955 778.152,-27.7734 779.289,-20.8664\"/>\r\n",
       "</g>\r\n",
       "<!-- required_car_parking_spaces -->\r\n",
       "<g id=\"node12\" class=\"node\"><title>required_car_parking_spaces</title>\r\n",
       "<ellipse fill=\"none\" stroke=\"black\" cx=\"1044.04\" cy=\"-90\" rx=\"118.079\" ry=\"18\"/>\r\n",
       "<text text-anchor=\"middle\" x=\"1044.04\" y=\"-86.3\" font-family=\"Times New Roman,serif\" font-size=\"14.00\">required_car_parking_spaces</text>\r\n",
       "</g>\r\n",
       "<!-- total_days&#45;&gt;required_car_parking_spaces -->\r\n",
       "<g id=\"edge23\" class=\"edge\"><title>total_days&#45;&gt;required_car_parking_spaces</title>\r\n",
       "<path fill=\"none\" stroke=\"black\" d=\"M926.539,-147.337C947.638,-137.221 976.758,-123.26 1000.73,-111.766\"/>\r\n",
       "<polygon fill=\"black\" stroke=\"black\" points=\"1002.47,-114.814 1009.97,-107.335 999.442,-108.502 1002.47,-114.814\"/>\r\n",
       "</g>\r\n",
       "<!-- meal -->\r\n",
       "<g id=\"node3\" class=\"node\"><title>meal</title>\r\n",
       "<ellipse fill=\"none\" stroke=\"black\" cx=\"1410.04\" cy=\"-162\" rx=\"27.0966\" ry=\"18\"/>\r\n",
       "<text text-anchor=\"middle\" x=\"1410.04\" y=\"-158.3\" font-family=\"Times New Roman,serif\" font-size=\"14.00\">meal</text>\r\n",
       "</g>\r\n",
       "<!-- total_of_special_requests -->\r\n",
       "<g id=\"node4\" class=\"node\"><title>total_of_special_requests</title>\r\n",
       "<ellipse fill=\"none\" stroke=\"black\" cx=\"354.042\" cy=\"-90\" rx=\"103.982\" ry=\"18\"/>\r\n",
       "<text text-anchor=\"middle\" x=\"354.042\" y=\"-86.3\" font-family=\"Times New Roman,serif\" font-size=\"14.00\">total_of_special_requests</text>\r\n",
       "</g>\r\n",
       "<!-- total_of_special_requests&#45;&gt;is_canceled -->\r\n",
       "<g id=\"edge6\" class=\"edge\"><title>total_of_special_requests&#45;&gt;is_canceled</title>\r\n",
       "<path fill=\"none\" stroke=\"black\" d=\"M420.622,-76.1609C489.981,-62.7858 597.377,-42.0759 662.077,-29.5994\"/>\r\n",
       "<polygon fill=\"black\" stroke=\"black\" points=\"662.925,-33.0003 672.082,-27.6701 661.6,-26.127 662.925,-33.0003\"/>\r\n",
       "</g>\r\n",
       "<!-- previous_cancellation -->\r\n",
       "<g id=\"node5\" class=\"node\"><title>previous_cancellation</title>\r\n",
       "<ellipse fill=\"none\" stroke=\"black\" cx=\"89.0421\" cy=\"-162\" rx=\"89.0842\" ry=\"18\"/>\r\n",
       "<text text-anchor=\"middle\" x=\"89.0421\" y=\"-158.3\" font-family=\"Times New Roman,serif\" font-size=\"14.00\">previous_cancellation</text>\r\n",
       "</g>\r\n",
       "<!-- previous_cancellation&#45;&gt;is_canceled -->\r\n",
       "<g id=\"edge15\" class=\"edge\"><title>previous_cancellation&#45;&gt;is_canceled</title>\r\n",
       "<path fill=\"none\" stroke=\"black\" d=\"M77.9638,-143.938C66.617,-124.104 52.9903,-91.5935 71.0421,-72 109.987,-29.7293 498.217,-21.172 653.42,-19.4397\"/>\r\n",
       "<polygon fill=\"black\" stroke=\"black\" points=\"653.78,-22.9362 663.742,-19.3308 653.706,-15.9366 653.78,-22.9362\"/>\r\n",
       "</g>\r\n",
       "<!-- is_repeated_guest -->\r\n",
       "<g id=\"node14\" class=\"node\"><title>is_repeated_guest</title>\r\n",
       "<ellipse fill=\"none\" stroke=\"black\" cx=\"156.042\" cy=\"-90\" rx=\"76.0865\" ry=\"18\"/>\r\n",
       "<text text-anchor=\"middle\" x=\"156.042\" y=\"-86.3\" font-family=\"Times New Roman,serif\" font-size=\"14.00\">is_repeated_guest</text>\r\n",
       "</g>\r\n",
       "<!-- previous_cancellation&#45;&gt;is_repeated_guest -->\r\n",
       "<g id=\"edge16\" class=\"edge\"><title>previous_cancellation&#45;&gt;is_repeated_guest</title>\r\n",
       "<path fill=\"none\" stroke=\"black\" d=\"M105.261,-144.055C113.573,-135.371 123.84,-124.644 132.962,-115.114\"/>\r\n",
       "<polygon fill=\"black\" stroke=\"black\" points=\"135.586,-117.433 139.973,-107.789 130.53,-112.593 135.586,-117.433\"/>\r\n",
       "</g>\r\n",
       "<!-- booking_changes -->\r\n",
       "<g id=\"node6\" class=\"node\"><title>booking_changes</title>\r\n",
       "<ellipse fill=\"none\" stroke=\"black\" cx=\"560.042\" cy=\"-162\" rx=\"74.9875\" ry=\"18\"/>\r\n",
       "<text text-anchor=\"middle\" x=\"560.042\" y=\"-158.3\" font-family=\"Times New Roman,serif\" font-size=\"14.00\">booking_changes</text>\r\n",
       "</g>\r\n",
       "<!-- booking_changes&#45;&gt;is_canceled -->\r\n",
       "<g id=\"edge14\" class=\"edge\"><title>booking_changes&#45;&gt;is_canceled</title>\r\n",
       "<path fill=\"none\" stroke=\"black\" d=\"M549.637,-143.863C539.404,-124.552 527.405,-93.1095 543.042,-72 568.321,-37.8752 615.058,-24.9773 653.733,-20.4217\"/>\r\n",
       "<polygon fill=\"black\" stroke=\"black\" points=\"654.291,-23.8831 663.887,-19.391 653.584,-16.9188 654.291,-23.8831\"/>\r\n",
       "</g>\r\n",
       "<!-- different_room_assigned -->\r\n",
       "<g id=\"node8\" class=\"node\"><title>different_room_assigned</title>\r\n",
       "<ellipse fill=\"none\" stroke=\"black\" cx=\"653.042\" cy=\"-90\" rx=\"101.282\" ry=\"18\"/>\r\n",
       "<text text-anchor=\"middle\" x=\"653.042\" y=\"-86.3\" font-family=\"Times New Roman,serif\" font-size=\"14.00\">different_room_assigned</text>\r\n",
       "</g>\r\n",
       "<!-- booking_changes&#45;&gt;different_room_assigned -->\r\n",
       "<g id=\"edge13\" class=\"edge\"><title>booking_changes&#45;&gt;different_room_assigned</title>\r\n",
       "<path fill=\"none\" stroke=\"black\" d=\"M581.612,-144.765C593.876,-135.533 609.426,-123.83 622.883,-113.701\"/>\r\n",
       "<polygon fill=\"black\" stroke=\"black\" points=\"625.059,-116.444 630.943,-107.633 620.849,-110.851 625.059,-116.444\"/>\r\n",
       "</g>\r\n",
       "<!-- different_room_assigned&#45;&gt;is_canceled -->\r\n",
       "<g id=\"edge24\" class=\"edge\"><title>different_room_assigned&#45;&gt;is_canceled</title>\r\n",
       "<path fill=\"none\" stroke=\"black\" d=\"M668.535,-72.055C676.591,-63.243 686.57,-52.3285 695.379,-42.6943\"/>\r\n",
       "<polygon fill=\"black\" stroke=\"black\" points=\"697.968,-45.049 702.133,-35.307 692.802,-40.3256 697.968,-45.049\"/>\r\n",
       "</g>\r\n",
       "<!-- total_guests -->\r\n",
       "<g id=\"node9\" class=\"node\"><title>total_guests</title>\r\n",
       "<ellipse fill=\"none\" stroke=\"black\" cx=\"1114.04\" cy=\"-162\" rx=\"53.8905\" ry=\"18\"/>\r\n",
       "<text text-anchor=\"middle\" x=\"1114.04\" y=\"-158.3\" font-family=\"Times New Roman,serif\" font-size=\"14.00\">total_guests</text>\r\n",
       "</g>\r\n",
       "<!-- total_guests&#45;&gt;is_canceled -->\r\n",
       "<g id=\"edge19\" class=\"edge\"><title>total_guests&#45;&gt;is_canceled</title>\r\n",
       "<path fill=\"none\" stroke=\"black\" d=\"M1136.04,-145.505C1159.84,-126.902 1191.78,-95.3003 1171.04,-72 1145.47,-43.2732 898.307,-27.662 779.803,-21.7752\"/>\r\n",
       "<polygon fill=\"black\" stroke=\"black\" points=\"779.937,-18.2776 769.778,-21.2851 779.596,-25.2693 779.937,-18.2776\"/>\r\n",
       "</g>\r\n",
       "<!-- total_guests&#45;&gt;required_car_parking_spaces -->\r\n",
       "<g id=\"edge20\" class=\"edge\"><title>total_guests&#45;&gt;required_car_parking_spaces</title>\r\n",
       "<path fill=\"none\" stroke=\"black\" d=\"M1097.81,-144.765C1089.05,-136.011 1078.07,-125.033 1068.33,-115.283\"/>\r\n",
       "<polygon fill=\"black\" stroke=\"black\" points=\"1070.71,-112.72 1061.17,-108.124 1065.76,-117.67 1070.71,-112.72\"/>\r\n",
       "</g>\r\n",
       "<!-- country -->\r\n",
       "<g id=\"node10\" class=\"node\"><title>country</title>\r\n",
       "<ellipse fill=\"none\" stroke=\"black\" cx=\"1410.04\" cy=\"-234\" rx=\"38.1938\" ry=\"18\"/>\r\n",
       "<text text-anchor=\"middle\" x=\"1410.04\" y=\"-230.3\" font-family=\"Times New Roman,serif\" font-size=\"14.00\">country</text>\r\n",
       "</g>\r\n",
       "<!-- country&#45;&gt;meal -->\r\n",
       "<g id=\"edge8\" class=\"edge\"><title>country&#45;&gt;meal</title>\r\n",
       "<path fill=\"none\" stroke=\"black\" d=\"M1410.04,-215.697C1410.04,-207.983 1410.04,-198.712 1410.04,-190.112\"/>\r\n",
       "<polygon fill=\"black\" stroke=\"black\" points=\"1413.54,-190.104 1410.04,-180.104 1406.54,-190.104 1413.54,-190.104\"/>\r\n",
       "</g>\r\n",
       "<!-- lead_time -->\r\n",
       "<g id=\"node11\" class=\"node\"><title>lead_time</title>\r\n",
       "<ellipse fill=\"none\" stroke=\"black\" cx=\"1302.04\" cy=\"-162\" rx=\"45.4919\" ry=\"18\"/>\r\n",
       "<text text-anchor=\"middle\" x=\"1302.04\" y=\"-158.3\" font-family=\"Times New Roman,serif\" font-size=\"14.00\">lead_time</text>\r\n",
       "</g>\r\n",
       "<!-- country&#45;&gt;lead_time -->\r\n",
       "<g id=\"edge7\" class=\"edge\"><title>country&#45;&gt;lead_time</title>\r\n",
       "<path fill=\"none\" stroke=\"black\" d=\"M1388.45,-219.003C1372.72,-208.81 1351.18,-194.846 1333.54,-183.412\"/>\r\n",
       "<polygon fill=\"black\" stroke=\"black\" points=\"1335.01,-180.199 1324.72,-177.697 1331.21,-186.073 1335.01,-180.199\"/>\r\n",
       "</g>\r\n",
       "<!-- lead_time&#45;&gt;is_canceled -->\r\n",
       "<g id=\"edge1\" class=\"edge\"><title>lead_time&#45;&gt;is_canceled</title>\r\n",
       "<path fill=\"none\" stroke=\"black\" d=\"M1337.69,-150.67C1358.38,-142.638 1382.72,-129.21 1395.04,-108 1403.08,-94.1661 1405.91,-83.7463 1395.04,-72 1353.83,-27.445 941.458,-20.2711 780.716,-19.1732\"/>\r\n",
       "<polygon fill=\"black\" stroke=\"black\" points=\"780.52,-15.672 770.499,-19.1093 780.476,-22.6719 780.52,-15.672\"/>\r\n",
       "</g>\r\n",
       "<!-- days_in_waiting_list -->\r\n",
       "<g id=\"node13\" class=\"node\"><title>days_in_waiting_list</title>\r\n",
       "<ellipse fill=\"none\" stroke=\"black\" cx=\"1302.04\" cy=\"-90\" rx=\"84.485\" ry=\"18\"/>\r\n",
       "<text text-anchor=\"middle\" x=\"1302.04\" y=\"-86.3\" font-family=\"Times New Roman,serif\" font-size=\"14.00\">days_in_waiting_list</text>\r\n",
       "</g>\r\n",
       "<!-- lead_time&#45;&gt;days_in_waiting_list -->\r\n",
       "<g id=\"edge2\" class=\"edge\"><title>lead_time&#45;&gt;days_in_waiting_list</title>\r\n",
       "<path fill=\"none\" stroke=\"black\" d=\"M1302.04,-143.697C1302.04,-135.983 1302.04,-126.712 1302.04,-118.112\"/>\r\n",
       "<polygon fill=\"black\" stroke=\"black\" points=\"1305.54,-118.104 1302.04,-108.104 1298.54,-118.104 1305.54,-118.104\"/>\r\n",
       "</g>\r\n",
       "<!-- required_car_parking_spaces&#45;&gt;is_canceled -->\r\n",
       "<g id=\"edge17\" class=\"edge\"><title>required_car_parking_spaces&#45;&gt;is_canceled</title>\r\n",
       "<path fill=\"none\" stroke=\"black\" d=\"M978.262,-74.9187C917.211,-61.8497 827.448,-42.6344 770.643,-30.4741\"/>\r\n",
       "<polygon fill=\"black\" stroke=\"black\" points=\"771.291,-27.0338 760.78,-28.3629 769.826,-33.8787 771.291,-27.0338\"/>\r\n",
       "</g>\r\n",
       "<!-- days_in_waiting_list&#45;&gt;is_canceled -->\r\n",
       "<g id=\"edge18\" class=\"edge\"><title>days_in_waiting_list&#45;&gt;is_canceled</title>\r\n",
       "<path fill=\"none\" stroke=\"black\" d=\"M1240.19,-77.658C1228.22,-75.6364 1215.75,-73.6516 1204.04,-72 1051.24,-50.4536 870.388,-32.8249 778.014,-24.3846\"/>\r\n",
       "<polygon fill=\"black\" stroke=\"black\" points=\"778.28,-20.8945 768.004,-23.4744 777.646,-27.8657 778.28,-20.8945\"/>\r\n",
       "</g>\r\n",
       "<!-- is_repeated_guest&#45;&gt;is_canceled -->\r\n",
       "<g id=\"edge10\" class=\"edge\"><title>is_repeated_guest&#45;&gt;is_canceled</title>\r\n",
       "<path fill=\"none\" stroke=\"black\" d=\"M210.787,-77.3272C220.824,-75.3935 231.227,-73.525 241.042,-72 389.184,-48.9825 564.768,-32.0974 655.655,-24.1241\"/>\r\n",
       "<polygon fill=\"black\" stroke=\"black\" points=\"656.121,-27.5969 665.779,-23.2422 655.513,-20.6233 656.121,-27.5969\"/>\r\n",
       "</g>\r\n",
       "<!-- market_segment -->\r\n",
       "<g id=\"node15\" class=\"node\"><title>market_segment</title>\r\n",
       "<ellipse fill=\"none\" stroke=\"black\" cx=\"1284.04\" cy=\"-234\" rx=\"69.5877\" ry=\"18\"/>\r\n",
       "<text text-anchor=\"middle\" x=\"1284.04\" y=\"-230.3\" font-family=\"Times New Roman,serif\" font-size=\"14.00\">market_segment</text>\r\n",
       "</g>\r\n",
       "<!-- market_segment&#45;&gt;lead_time -->\r\n",
       "<g id=\"edge9\" class=\"edge\"><title>market_segment&#45;&gt;lead_time</title>\r\n",
       "<path fill=\"none\" stroke=\"black\" d=\"M1288.49,-215.697C1290.5,-207.898 1292.91,-198.509 1295.14,-189.829\"/>\r\n",
       "<polygon fill=\"black\" stroke=\"black\" points=\"1298.54,-190.661 1297.64,-180.104 1291.76,-188.918 1298.54,-190.661\"/>\r\n",
       "</g>\r\n",
       "<!-- unobserved_confounder -->\r\n",
       "<g id=\"node16\" class=\"node\"><title>unobserved_confounder</title>\r\n",
       "<ellipse fill=\"none\" stroke=\"black\" cx=\"782.042\" cy=\"-234\" rx=\"100.182\" ry=\"18\"/>\r\n",
       "<text text-anchor=\"middle\" x=\"782.042\" y=\"-230.3\" font-family=\"Times New Roman,serif\" font-size=\"14.00\">unobserved_confounder</text>\r\n",
       "</g>\r\n",
       "<!-- unobserved_confounder&#45;&gt;is_canceled -->\r\n",
       "<g id=\"edge3\" class=\"edge\"><title>unobserved_confounder&#45;&gt;is_canceled</title>\r\n",
       "<path fill=\"none\" stroke=\"black\" d=\"M783.238,-215.687C784.654,-185.222 784.545,-120.655 763.042,-72 758.291,-61.2496 750.588,-51.0753 742.834,-42.5694\"/>\r\n",
       "<polygon fill=\"black\" stroke=\"black\" points=\"745.242,-40.0251 735.78,-35.2584 740.205,-44.8853 745.242,-40.0251\"/>\r\n",
       "</g>\r\n",
       "<!-- unobserved_confounder&#45;&gt;different_room_assigned -->\r\n",
       "<g id=\"edge5\" class=\"edge\"><title>unobserved_confounder&#45;&gt;different_room_assigned</title>\r\n",
       "<path fill=\"none\" stroke=\"black\" d=\"M766.738,-216.153C744.044,-191.173 701.347,-144.172 675.225,-115.418\"/>\r\n",
       "<polygon fill=\"black\" stroke=\"black\" points=\"677.642,-112.873 668.327,-107.825 672.46,-117.58 677.642,-112.873\"/>\r\n",
       "</g>\r\n",
       "<!-- unobserved_confounder&#45;&gt;lead_time -->\r\n",
       "<g id=\"edge4\" class=\"edge\"><title>unobserved_confounder&#45;&gt;lead_time</title>\r\n",
       "<path fill=\"none\" stroke=\"black\" d=\"M859.993,-222.583C939.67,-211.925 1066.99,-194.867 1177.04,-180 1200.95,-176.771 1227.42,-173.174 1249.82,-170.123\"/>\r\n",
       "<polygon fill=\"black\" stroke=\"black\" points=\"1250.37,-173.581 1259.81,-168.763 1249.43,-166.645 1250.37,-173.581\"/>\r\n",
       "</g>\r\n",
       "<!-- previous_bookings_not_canceled -->\r\n",
       "<g id=\"node17\" class=\"node\"><title>previous_bookings_not_canceled</title>\r\n",
       "<ellipse fill=\"none\" stroke=\"black\" cx=\"332.042\" cy=\"-162\" rx=\"133.776\" ry=\"18\"/>\r\n",
       "<text text-anchor=\"middle\" x=\"332.042\" y=\"-158.3\" font-family=\"Times New Roman,serif\" font-size=\"14.00\">previous_bookings_not_canceled</text>\r\n",
       "</g>\r\n",
       "<!-- previous_bookings_not_canceled&#45;&gt;is_canceled -->\r\n",
       "<g id=\"edge11\" class=\"edge\"><title>previous_bookings_not_canceled&#45;&gt;is_canceled</title>\r\n",
       "<path fill=\"none\" stroke=\"black\" d=\"M377.053,-145.024C403.604,-135.183 437.654,-121.833 467.042,-108 496.921,-93.9354 501.528,-84.6286 532.042,-72 575.116,-54.173 626.194,-40.0342 663.755,-30.8589\"/>\r\n",
       "<polygon fill=\"black\" stroke=\"black\" points=\"664.581,-34.2602 673.485,-28.519 662.944,-27.4542 664.581,-34.2602\"/>\r\n",
       "</g>\r\n",
       "<!-- previous_bookings_not_canceled&#45;&gt;is_repeated_guest -->\r\n",
       "<g id=\"edge12\" class=\"edge\"><title>previous_bookings_not_canceled&#45;&gt;is_repeated_guest</title>\r\n",
       "<path fill=\"none\" stroke=\"black\" d=\"M291.222,-144.765C264.788,-134.251 230.291,-120.531 202.762,-109.582\"/>\r\n",
       "<polygon fill=\"black\" stroke=\"black\" points=\"203.926,-106.278 193.34,-105.834 201.339,-112.782 203.926,-106.278\"/>\r\n",
       "</g>\r\n",
       "</g>\r\n",
       "</svg>\r\n"
      ],
      "text/plain": [
       "<graphviz.dot.Digraph at 0x2d64af1cf10>"
      ]
     },
     "execution_count": 37,
     "metadata": {},
     "output_type": "execute_result"
    }
   ],
   "source": [
    "from causalgraphicalmodels import CausalGraphicalModel\n",
    "graph = CausalGraphicalModel(\n",
    "    nodes=[ 'is_canceled', 'lead_time', \"unobserved_confounder\",'total_of_special_requests',\n",
    "        'meal', 'country', 'market_segment',\n",
    "        'is_repeated_guest', \n",
    "       'previous_bookings_not_canceled', 'booking_changes', 'previous_cancellation','required_car_parking_spaces',\n",
    "        'days_in_waiting_list',\n",
    "         'total_guests',\n",
    "       'total_days', 'different_room_assigned','agent'],\n",
    "    edges=[\n",
    "        (\"market_segment\", \"lead_time\"), \n",
    "        (\"lead_time\", \"is_canceled\"), \n",
    "        (\"country\", \"lead_time\"),\n",
    "        (\"different_room_assigned\", \"is_canceled\"), \n",
    "        (\"unobserved_confounder\", \"is_canceled\"),(\"unobserved_confounder\",\"lead_time\"),(\"unobserved_confounder\",\"different_room_assigned\"),\n",
    "        (\"country\",\"meal\"),\n",
    "        (\"lead_time\",'days_in_waiting_list'),\n",
    "        ('days_in_waiting_list',\"is_canceled\"),\n",
    "        ('previous_bookings_not_canceled','is_canceled'),\n",
    "        ('previous_bookings_not_canceled','is_repeated_guest'),\n",
    "        ('is_repeated_guest','is_canceled'),\n",
    "        ('total_days',\"is_canceled\"),\n",
    "        ('total_days',\"agent\"),\n",
    "        ('total_guests','is_canceled'),\n",
    "        ('previous_cancellation','is_canceled'),\n",
    "        ('previous_cancellation','is_repeated_guest'),\n",
    "        ('required_car_parking_spaces','is_canceled'),('total_guests','required_car_parking_spaces'),('total_days','required_car_parking_spaces'),\n",
    "        ('total_of_special_requests','is_canceled'),\n",
    "        ('booking_changes','different_room_assigned'),('booking_changes','is_canceled')\n",
    "    ]\n",
    ")\n",
    "G=graph.draw()\n",
    "G"
   ]
  },
  {
   "cell_type": "code",
   "execution_count": 66,
   "metadata": {},
   "outputs": [
    {
     "data": {
      "text/plain": [
       "'test-output\\\\causal.png'"
      ]
     },
     "execution_count": 66,
     "metadata": {},
     "output_type": "execute_result"
    }
   ],
   "source": [
    "G.render('test-output/causal',format='png') "
   ]
  },
  {
   "cell_type": "code",
   "execution_count": 38,
   "metadata": {},
   "outputs": [],
   "source": [
    "causal_graph = \"\"\"digraph {\n",
    "different_room_assigned[label=\"Different Room Assigned\"];\n",
    "is_canceled[label=\"Booking Cancelled\"];\n",
    "booking_changes[label=\"Booking Changes\"];\n",
    "previous_bookings_not_canceled[label=\"Previous Booking Retentions\"];\n",
    "days_in_waiting_list[label=\"Days in Waitlist\"];\n",
    "lead_time[label=\"Lead Time\"];\n",
    "market_segment[label=\"Market Segment\"];\n",
    "country[label=\"Country\"];\n",
    "U[label=\"Unobserved Confounders\"];\n",
    "is_repeated_guest;\n",
    "agent;\n",
    "total_days;\n",
    "total_guests;\n",
    "meal;\n",
    "hotel;\n",
    "U->different_room_assigned; U->is_canceled;U->required_car_parking_spaces;\n",
    "market_segment -> lead_time;\n",
    "lead_time->is_canceled; country -> lead_time;\n",
    "different_room_assigned -> is_canceled;\n",
    "country->meal;\n",
    "lead_time -> days_in_waiting_list;\n",
    "days_in_waiting_list ->is_canceled;\n",
    "previous_bookings_not_canceled -> is_canceled;\n",
    "previous_bookings_not_canceled -> is_repeated_guest;\n",
    "is_repeated_guest -> is_canceled;\n",
    "total_days -> is_canceled;\n",
    "total_days->agent;\n",
    "total_guests -> is_canceled;\n",
    "booking_changes -> different_room_assigned; booking_changes -> is_canceled; \n",
    "hotel -> is_canceled;\n",
    "required_car_parking_spaces -> is_canceled;\n",
    "total_of_special_requests -> is_canceled;\n",
    "country->{hotel, required_car_parking_spaces,total_of_special_requests,is_canceled};\n",
    "market_segment->{hotel, required_car_parking_spaces,total_of_special_requests,is_canceled};\n",
    "}\"\"\""
   ]
  },
  {
   "cell_type": "code",
   "execution_count": 39,
   "metadata": {},
   "outputs": [
    {
     "name": "stdout",
     "output_type": "stream",
     "text": [
      "Estimand type: nonparametric-ate\n",
      "\n",
      "### Estimand : 1\n",
      "Estimand name: backdoor\n",
      "Estimand expression:\n",
      "            d                                                                 \n",
      "──────────────────────────(Expectation(is_canceled|agent,total_days,meal,hotel\n",
      "d[different_room_assigned]                                                    \n",
      "\n",
      "                                                                              \n",
      ",days_in_waiting_list,lead_time,total_of_special_requests,booking_changes,tota\n",
      "                                                                              \n",
      "\n",
      "                                                                              \n",
      "l_guests,country,required_car_parking_spaces,is_repeated_guest,market_segment,\n",
      "                                                                              \n",
      "\n",
      "                                \n",
      "previous_bookings_not_canceled))\n",
      "                                \n",
      "Estimand assumption 1, Unconfoundedness: If U→{different_room_assigned} and U→is_canceled then P(is_canceled|different_room_assigned,agent,total_days,meal,hotel,days_in_waiting_list,lead_time,total_of_special_requests,booking_changes,total_guests,country,required_car_parking_spaces,is_repeated_guest,market_segment,previous_bookings_not_canceled,U) = P(is_canceled|different_room_assigned,agent,total_days,meal,hotel,days_in_waiting_list,lead_time,total_of_special_requests,booking_changes,total_guests,country,required_car_parking_spaces,is_repeated_guest,market_segment,previous_bookings_not_canceled)\n",
      "\n",
      "### Estimand : 2\n",
      "Estimand name: iv\n",
      "No such variable found!\n",
      "\n",
      "### Estimand : 3\n",
      "Estimand name: frontdoor\n",
      "No such variable found!\n",
      "\n"
     ]
    }
   ],
   "source": [
    "import statsmodels\n",
    "model= dowhy.CausalModel(\n",
    "        data = dataset,\n",
    "        graph=causal_graph.replace(\"\\n\", \" \"),\n",
    "        treatment=\"different_room_assigned\",\n",
    "        outcome='is_canceled')\n",
    "#Identify the causal effect\n",
    "identified_estimand = model.identify_effect(proceed_when_unidentifiable=True)\n",
    "print(identified_estimand)"
   ]
  },
  {
   "cell_type": "code",
   "execution_count": null,
   "metadata": {},
   "outputs": [],
   "source": []
  },
  {
   "cell_type": "code",
   "execution_count": 40,
   "metadata": {},
   "outputs": [
    {
     "data": {
      "text/plain": [
       "False    104199\n",
       "True      14699\n",
       "Name: different_room_assigned, dtype: int64"
      ]
     },
     "execution_count": 40,
     "metadata": {},
     "output_type": "execute_result"
    }
   ],
   "source": [
    "dataset['different_room_assigned'].value_counts()"
   ]
  },
  {
   "cell_type": "code",
   "execution_count": 45,
   "metadata": {},
   "outputs": [
    {
     "name": "stderr",
     "output_type": "stream",
     "text": [
      "C:\\Users\\dell\\anaconda3\\lib\\site-packages\\sklearn\\utils\\validation.py:63: DataConversionWarning: A column-vector y was passed when a 1d array was expected. Please change the shape of y to (n_samples, ), for example using ravel().\n",
      "  return f(*args, **kwargs)\n",
      "C:\\Users\\dell\\anaconda3\\lib\\site-packages\\sklearn\\linear_model\\_logistic.py:763: ConvergenceWarning: lbfgs failed to converge (status=1):\n",
      "STOP: TOTAL NO. of ITERATIONS REACHED LIMIT.\n",
      "\n",
      "Increase the number of iterations (max_iter) or scale the data as shown in:\n",
      "    https://scikit-learn.org/stable/modules/preprocessing.html\n",
      "Please also refer to the documentation for alternative solver options:\n",
      "    https://scikit-learn.org/stable/modules/linear_model.html#logistic-regression\n",
      "  n_iter_i = _check_optimize_result(\n",
      "C:\\Users\\dell\\anaconda3\\lib\\site-packages\\pandas\\core\\computation\\expressions.py:204: UserWarning: evaluating in Python space because the '*' operator is not supported by numexpr for the bool dtype, use '&' instead\n",
      "  warnings.warn(\n"
     ]
    },
    {
     "name": "stdout",
     "output_type": "stream",
     "text": [
      "*** Causal Estimate ***\n",
      "\n",
      "## Identified estimand\n",
      "Estimand type: nonparametric-ate\n",
      "\n",
      "### Estimand : 1\n",
      "Estimand name: backdoor\n",
      "Estimand expression:\n",
      "            d                                                                 \n",
      "──────────────────────────(Expectation(is_canceled|agent,total_days,meal,hotel\n",
      "d[different_room_assigned]                                                    \n",
      "\n",
      "                                                                              \n",
      ",days_in_waiting_list,lead_time,total_of_special_requests,booking_changes,tota\n",
      "                                                                              \n",
      "\n",
      "                                                                              \n",
      "l_guests,country,required_car_parking_spaces,is_repeated_guest,market_segment,\n",
      "                                                                              \n",
      "\n",
      "                                \n",
      "previous_bookings_not_canceled))\n",
      "                                \n",
      "Estimand assumption 1, Unconfoundedness: If U→{different_room_assigned} and U→is_canceled then P(is_canceled|different_room_assigned,agent,total_days,meal,hotel,days_in_waiting_list,lead_time,total_of_special_requests,booking_changes,total_guests,country,required_car_parking_spaces,is_repeated_guest,market_segment,previous_bookings_not_canceled,U) = P(is_canceled|different_room_assigned,agent,total_days,meal,hotel,days_in_waiting_list,lead_time,total_of_special_requests,booking_changes,total_guests,country,required_car_parking_spaces,is_repeated_guest,market_segment,previous_bookings_not_canceled)\n",
      "\n",
      "## Realized estimand\n",
      "b: is_canceled~different_room_assigned+agent+total_days+meal+hotel+days_in_waiting_list+lead_time+total_of_special_requests+booking_changes+total_guests+country+required_car_parking_spaces+is_repeated_guest+market_segment+previous_bookings_not_canceled\n",
      "Target units: ate\n",
      "\n",
      "## Estimate\n",
      "Mean value: -0.3237900641224798\n",
      "\n"
     ]
    },
    {
     "name": "stderr",
     "output_type": "stream",
     "text": [
      "C:\\Users\\dell\\anaconda3\\lib\\site-packages\\dowhy\\causal_estimators\\propensity_score_stratification_estimator.py:61: FutureWarning: Index.ravel returning ndarray is deprecated; in a future version this will return a view on self.\n",
      "  weighted_outcomes.columns = [\"_\".join(x) for x in weighted_outcomes.columns.ravel()]\n"
     ]
    }
   ],
   "source": [
    "\n",
    "estimate = model.estimate_effect(identified_estimand, \n",
    "                                     method_name=\"backdoor.propensity_score_stratification\",target_units=\"ate\")\n",
    "# ATE = Average Treatment Effect\n",
    "# ATT = Average Treatment Effect on Treated (i.e. those who were assigned a different room)\n",
    "# ATC = Average Treatment Effect on Control (i.e. those who were not assigned a different room)\n",
    "print(estimate)"
   ]
  },
  {
   "cell_type": "code",
   "execution_count": null,
   "metadata": {},
   "outputs": [],
   "source": []
  },
  {
   "cell_type": "code",
   "execution_count": null,
   "metadata": {},
   "outputs": [],
   "source": []
  },
  {
   "cell_type": "code",
   "execution_count": null,
   "metadata": {},
   "outputs": [],
   "source": []
  },
  {
   "cell_type": "code",
   "execution_count": null,
   "metadata": {},
   "outputs": [],
   "source": []
  },
  {
   "cell_type": "code",
   "execution_count": null,
   "metadata": {},
   "outputs": [],
   "source": []
  },
  {
   "cell_type": "code",
   "execution_count": null,
   "metadata": {},
   "outputs": [],
   "source": []
  },
  {
   "cell_type": "code",
   "execution_count": null,
   "metadata": {},
   "outputs": [],
   "source": []
  },
  {
   "cell_type": "code",
   "execution_count": null,
   "metadata": {},
   "outputs": [],
   "source": []
  },
  {
   "cell_type": "code",
   "execution_count": null,
   "metadata": {},
   "outputs": [],
   "source": []
  },
  {
   "cell_type": "code",
   "execution_count": null,
   "metadata": {},
   "outputs": [],
   "source": []
  }
 ],
 "metadata": {
  "kernelspec": {
   "display_name": "Python 3",
   "language": "python",
   "name": "python3"
  },
  "language_info": {
   "codemirror_mode": {
    "name": "ipython",
    "version": 3
   },
   "file_extension": ".py",
   "mimetype": "text/x-python",
   "name": "python",
   "nbconvert_exporter": "python",
   "pygments_lexer": "ipython3",
   "version": "3.8.3"
  }
 },
 "nbformat": 4,
 "nbformat_minor": 4
}
